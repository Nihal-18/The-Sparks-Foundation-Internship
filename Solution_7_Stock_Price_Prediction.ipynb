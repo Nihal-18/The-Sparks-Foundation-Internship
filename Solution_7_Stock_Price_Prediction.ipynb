{
  "nbformat": 4,
  "nbformat_minor": 0,
  "metadata": {
    "colab": {
      "name": "Solution_7_Stock_Price_Prediction.ipynb",
      "provenance": [],
      "mount_file_id": "1OXvglYL7mZJl7cj4lbkFVF9BD0cDFgzV",
      "authorship_tag": "ABX9TyMDcX1R6g6Eo5LYsQlRTvMk",
      "include_colab_link": true
    },
    "kernelspec": {
      "name": "python3",
      "display_name": "Python 3"
    },
    "accelerator": "GPU"
  },
  "cells": [
    {
      "cell_type": "markdown",
      "metadata": {
        "id": "view-in-github",
        "colab_type": "text"
      },
      "source": [
        "<a href=\"https://colab.research.google.com/github/Nihal-18/The-Sparks-Foundation-Internship/blob/main/Solution_7_Stock_Price_Prediction.ipynb\" target=\"_parent\"><img src=\"https://colab.research.google.com/assets/colab-badge.svg\" alt=\"Open In Colab\"/></a>"
      ]
    },
    {
      "cell_type": "markdown",
      "metadata": {
        "id": "y7MsJuQSj7bL"
      },
      "source": [
        "# NAME: NIHAL M TODANKAR\n",
        "\n",
        "## TASK: STOCK MARKET PREDICTION USING NUMERICAL AND TEXTUAL ANALYSIS\n",
        "\n",
        "# DATA SCIENCE AND BUSINESS ANALYTICS INTERNSHIP\n",
        "\n",
        "# THE SPARKS FOUNDATION"
      ]
    },
    {
      "cell_type": "code",
      "metadata": {
        "id": "6I5fk2lojvdP",
        "colab": {
          "base_uri": "https://localhost:8080/"
        },
        "outputId": "bbdcbf06-49ef-4044-e50b-7ce0fe75b272"
      },
      "source": [
        "import pandas as pd\n",
        "import numpy as np\n",
        "\n",
        "import matplotlib.pyplot as plt\n",
        "import seaborn as sb\n",
        "\n",
        "from sklearn.preprocessing import StandardScaler, MinMaxScaler\n",
        "from sklearn.model_selection import train_test_split\n",
        "from sklearn.metrics import mean_squared_error\n",
        "\n",
        "import nltk\n",
        "nltk.download('vader_lexicon')\n",
        "from nltk.sentiment.vader import SentimentIntensityAnalyzer\n",
        "from textblob import TextBlob # for extracting the sentiment out of the news headlines\n",
        "\n",
        "import re\n",
        "import os\n",
        "\n",
        "# importing library for acquiring numerical data from yahoo finance\n",
        "from pandas_datareader.data import  DataReader\n",
        "from datetime import datetime"
      ],
      "execution_count": 1,
      "outputs": [
        {
          "output_type": "stream",
          "text": [
            "[nltk_data] Downloading package vader_lexicon to /root/nltk_data...\n"
          ],
          "name": "stdout"
        },
        {
          "output_type": "stream",
          "text": [
            "/usr/local/lib/python3.6/dist-packages/nltk/twitter/__init__.py:20: UserWarning: The twython library has not been installed. Some functionality from the twitter package will not be available.\n",
            "  warnings.warn(\"The twython library has not been installed. \"\n"
          ],
          "name": "stderr"
        }
      ]
    },
    {
      "cell_type": "code",
      "metadata": {
        "id": "QCQGRQ9ylZjF"
      },
      "source": [
        "df= pd.read_csv('/content/drive/MyDrive/Sparks_inernship_datasets/india-news-headlines.csv')"
      ],
      "execution_count": 2,
      "outputs": []
    },
    {
      "cell_type": "code",
      "metadata": {
        "colab": {
          "base_uri": "https://localhost:8080/",
          "height": 228
        },
        "id": "L1ucRbA1mYoW",
        "outputId": "9b54f8f7-9647-42c3-bc0b-7171da2940b8"
      },
      "source": [
        "df.head()"
      ],
      "execution_count": 3,
      "outputs": [
        {
          "output_type": "execute_result",
          "data": {
            "text/html": [
              "<div>\n",
              "<style scoped>\n",
              "    .dataframe tbody tr th:only-of-type {\n",
              "        vertical-align: middle;\n",
              "    }\n",
              "\n",
              "    .dataframe tbody tr th {\n",
              "        vertical-align: top;\n",
              "    }\n",
              "\n",
              "    .dataframe thead th {\n",
              "        text-align: right;\n",
              "    }\n",
              "</style>\n",
              "<table border=\"1\" class=\"dataframe\">\n",
              "  <thead>\n",
              "    <tr style=\"text-align: right;\">\n",
              "      <th></th>\n",
              "      <th>publish_date</th>\n",
              "      <th>headline_category</th>\n",
              "      <th>headline_text</th>\n",
              "    </tr>\n",
              "  </thead>\n",
              "  <tbody>\n",
              "    <tr>\n",
              "      <th>0</th>\n",
              "      <td>20010101</td>\n",
              "      <td>sports.wwe</td>\n",
              "      <td>win over cena satisfying but defeating underta...</td>\n",
              "    </tr>\n",
              "    <tr>\n",
              "      <th>1</th>\n",
              "      <td>20010102</td>\n",
              "      <td>unknown</td>\n",
              "      <td>Status quo will not be disturbed at Ayodhya; s...</td>\n",
              "    </tr>\n",
              "    <tr>\n",
              "      <th>2</th>\n",
              "      <td>20010102</td>\n",
              "      <td>unknown</td>\n",
              "      <td>Fissures in Hurriyat over Pak visit</td>\n",
              "    </tr>\n",
              "    <tr>\n",
              "      <th>3</th>\n",
              "      <td>20010102</td>\n",
              "      <td>unknown</td>\n",
              "      <td>America's unwanted heading for India?</td>\n",
              "    </tr>\n",
              "    <tr>\n",
              "      <th>4</th>\n",
              "      <td>20010102</td>\n",
              "      <td>unknown</td>\n",
              "      <td>For bigwigs; it is destination Goa</td>\n",
              "    </tr>\n",
              "  </tbody>\n",
              "</table>\n",
              "</div>"
            ],
            "text/plain": [
              "   publish_date  ...                                      headline_text\n",
              "0      20010101  ...  win over cena satisfying but defeating underta...\n",
              "1      20010102  ...  Status quo will not be disturbed at Ayodhya; s...\n",
              "2      20010102  ...                Fissures in Hurriyat over Pak visit\n",
              "3      20010102  ...              America's unwanted heading for India?\n",
              "4      20010102  ...                 For bigwigs; it is destination Goa\n",
              "\n",
              "[5 rows x 3 columns]"
            ]
          },
          "metadata": {
            "tags": []
          },
          "execution_count": 3
        }
      ]
    },
    {
      "cell_type": "code",
      "metadata": {
        "colab": {
          "base_uri": "https://localhost:8080/"
        },
        "id": "Sk_dXijtmaku",
        "outputId": "e76e16ab-90a0-48dd-c601-452457164b3d"
      },
      "source": [
        "df.shape"
      ],
      "execution_count": 4,
      "outputs": [
        {
          "output_type": "execute_result",
          "data": {
            "text/plain": [
              "(3297172, 3)"
            ]
          },
          "metadata": {
            "tags": []
          },
          "execution_count": 4
        }
      ]
    },
    {
      "cell_type": "code",
      "metadata": {
        "id": "_EJNtNZ2me0n"
      },
      "source": [
        "df.drop(columns= ['headline_category'], axis= 1, inplace= True)"
      ],
      "execution_count": 5,
      "outputs": []
    },
    {
      "cell_type": "code",
      "metadata": {
        "colab": {
          "base_uri": "https://localhost:8080/",
          "height": 228
        },
        "id": "JSG-K3xamoWm",
        "outputId": "c735d764-fd2d-48bf-c6a8-1f0f467ca9e9"
      },
      "source": [
        "df.head()"
      ],
      "execution_count": 6,
      "outputs": [
        {
          "output_type": "execute_result",
          "data": {
            "text/html": [
              "<div>\n",
              "<style scoped>\n",
              "    .dataframe tbody tr th:only-of-type {\n",
              "        vertical-align: middle;\n",
              "    }\n",
              "\n",
              "    .dataframe tbody tr th {\n",
              "        vertical-align: top;\n",
              "    }\n",
              "\n",
              "    .dataframe thead th {\n",
              "        text-align: right;\n",
              "    }\n",
              "</style>\n",
              "<table border=\"1\" class=\"dataframe\">\n",
              "  <thead>\n",
              "    <tr style=\"text-align: right;\">\n",
              "      <th></th>\n",
              "      <th>publish_date</th>\n",
              "      <th>headline_text</th>\n",
              "    </tr>\n",
              "  </thead>\n",
              "  <tbody>\n",
              "    <tr>\n",
              "      <th>0</th>\n",
              "      <td>20010101</td>\n",
              "      <td>win over cena satisfying but defeating underta...</td>\n",
              "    </tr>\n",
              "    <tr>\n",
              "      <th>1</th>\n",
              "      <td>20010102</td>\n",
              "      <td>Status quo will not be disturbed at Ayodhya; s...</td>\n",
              "    </tr>\n",
              "    <tr>\n",
              "      <th>2</th>\n",
              "      <td>20010102</td>\n",
              "      <td>Fissures in Hurriyat over Pak visit</td>\n",
              "    </tr>\n",
              "    <tr>\n",
              "      <th>3</th>\n",
              "      <td>20010102</td>\n",
              "      <td>America's unwanted heading for India?</td>\n",
              "    </tr>\n",
              "    <tr>\n",
              "      <th>4</th>\n",
              "      <td>20010102</td>\n",
              "      <td>For bigwigs; it is destination Goa</td>\n",
              "    </tr>\n",
              "  </tbody>\n",
              "</table>\n",
              "</div>"
            ],
            "text/plain": [
              "   publish_date                                      headline_text\n",
              "0      20010101  win over cena satisfying but defeating underta...\n",
              "1      20010102  Status quo will not be disturbed at Ayodhya; s...\n",
              "2      20010102                Fissures in Hurriyat over Pak visit\n",
              "3      20010102              America's unwanted heading for India?\n",
              "4      20010102                 For bigwigs; it is destination Goa"
            ]
          },
          "metadata": {
            "tags": []
          },
          "execution_count": 6
        }
      ]
    },
    {
      "cell_type": "markdown",
      "metadata": {
        "id": "8Z2H6Ac_NiKm"
      },
      "source": [
        "# changing the date format using to pd.to_datetime"
      ]
    },
    {
      "cell_type": "code",
      "metadata": {
        "id": "NaYTKTjrmq76"
      },
      "source": [
        "df['publish_date'] = pd.to_datetime(df['publish_date'], format= '%Y%m%d')"
      ],
      "execution_count": 7,
      "outputs": []
    },
    {
      "cell_type": "code",
      "metadata": {
        "colab": {
          "base_uri": "https://localhost:8080/",
          "height": 447
        },
        "id": "sPKEMA9Tql8u",
        "outputId": "e682b66b-f69e-4abc-cd1e-52f714b81289"
      },
      "source": [
        "df"
      ],
      "execution_count": 8,
      "outputs": [
        {
          "output_type": "execute_result",
          "data": {
            "text/html": [
              "<div>\n",
              "<style scoped>\n",
              "    .dataframe tbody tr th:only-of-type {\n",
              "        vertical-align: middle;\n",
              "    }\n",
              "\n",
              "    .dataframe tbody tr th {\n",
              "        vertical-align: top;\n",
              "    }\n",
              "\n",
              "    .dataframe thead th {\n",
              "        text-align: right;\n",
              "    }\n",
              "</style>\n",
              "<table border=\"1\" class=\"dataframe\">\n",
              "  <thead>\n",
              "    <tr style=\"text-align: right;\">\n",
              "      <th></th>\n",
              "      <th>publish_date</th>\n",
              "      <th>headline_text</th>\n",
              "    </tr>\n",
              "  </thead>\n",
              "  <tbody>\n",
              "    <tr>\n",
              "      <th>0</th>\n",
              "      <td>2001-01-01</td>\n",
              "      <td>win over cena satisfying but defeating underta...</td>\n",
              "    </tr>\n",
              "    <tr>\n",
              "      <th>1</th>\n",
              "      <td>2001-01-02</td>\n",
              "      <td>Status quo will not be disturbed at Ayodhya; s...</td>\n",
              "    </tr>\n",
              "    <tr>\n",
              "      <th>2</th>\n",
              "      <td>2001-01-02</td>\n",
              "      <td>Fissures in Hurriyat over Pak visit</td>\n",
              "    </tr>\n",
              "    <tr>\n",
              "      <th>3</th>\n",
              "      <td>2001-01-02</td>\n",
              "      <td>America's unwanted heading for India?</td>\n",
              "    </tr>\n",
              "    <tr>\n",
              "      <th>4</th>\n",
              "      <td>2001-01-02</td>\n",
              "      <td>For bigwigs; it is destination Goa</td>\n",
              "    </tr>\n",
              "    <tr>\n",
              "      <th>...</th>\n",
              "      <td>...</td>\n",
              "      <td>...</td>\n",
              "    </tr>\n",
              "    <tr>\n",
              "      <th>3297167</th>\n",
              "      <td>2020-06-30</td>\n",
              "      <td>why tiktok removed 1 65 crore videos in india</td>\n",
              "    </tr>\n",
              "    <tr>\n",
              "      <th>3297168</th>\n",
              "      <td>2020-06-30</td>\n",
              "      <td>apurva asrani calls alia bhatts mother soni ra...</td>\n",
              "    </tr>\n",
              "    <tr>\n",
              "      <th>3297169</th>\n",
              "      <td>2020-06-30</td>\n",
              "      <td>kangana ranaut gets a doll version of herself ...</td>\n",
              "    </tr>\n",
              "    <tr>\n",
              "      <th>3297170</th>\n",
              "      <td>2020-06-30</td>\n",
              "      <td>meezaan jaffrey reminisces his childhood days ...</td>\n",
              "    </tr>\n",
              "    <tr>\n",
              "      <th>3297171</th>\n",
              "      <td>2020-06-30</td>\n",
              "      <td>prabhas20 titled as radhe shyam prabhas and po...</td>\n",
              "    </tr>\n",
              "  </tbody>\n",
              "</table>\n",
              "<p>3297172 rows × 2 columns</p>\n",
              "</div>"
            ],
            "text/plain": [
              "        publish_date                                      headline_text\n",
              "0         2001-01-01  win over cena satisfying but defeating underta...\n",
              "1         2001-01-02  Status quo will not be disturbed at Ayodhya; s...\n",
              "2         2001-01-02                Fissures in Hurriyat over Pak visit\n",
              "3         2001-01-02              America's unwanted heading for India?\n",
              "4         2001-01-02                 For bigwigs; it is destination Goa\n",
              "...              ...                                                ...\n",
              "3297167   2020-06-30      why tiktok removed 1 65 crore videos in india\n",
              "3297168   2020-06-30  apurva asrani calls alia bhatts mother soni ra...\n",
              "3297169   2020-06-30  kangana ranaut gets a doll version of herself ...\n",
              "3297170   2020-06-30  meezaan jaffrey reminisces his childhood days ...\n",
              "3297171   2020-06-30  prabhas20 titled as radhe shyam prabhas and po...\n",
              "\n",
              "[3297172 rows x 2 columns]"
            ]
          },
          "metadata": {
            "tags": []
          },
          "execution_count": 8
        }
      ]
    },
    {
      "cell_type": "code",
      "metadata": {
        "id": "hfP7rRxZqm3R"
      },
      "source": [
        "df['headline_text'] = df.groupby(['publish_date']).transform(lambda news : ' '.join(news)) "
      ],
      "execution_count": 9,
      "outputs": []
    },
    {
      "cell_type": "code",
      "metadata": {
        "colab": {
          "base_uri": "https://localhost:8080/",
          "height": 447
        },
        "id": "eODaShizspLG",
        "outputId": "5a3a2da3-cfdc-464c-9a39-17659dcd6f07"
      },
      "source": [
        "df"
      ],
      "execution_count": 10,
      "outputs": [
        {
          "output_type": "execute_result",
          "data": {
            "text/html": [
              "<div>\n",
              "<style scoped>\n",
              "    .dataframe tbody tr th:only-of-type {\n",
              "        vertical-align: middle;\n",
              "    }\n",
              "\n",
              "    .dataframe tbody tr th {\n",
              "        vertical-align: top;\n",
              "    }\n",
              "\n",
              "    .dataframe thead th {\n",
              "        text-align: right;\n",
              "    }\n",
              "</style>\n",
              "<table border=\"1\" class=\"dataframe\">\n",
              "  <thead>\n",
              "    <tr style=\"text-align: right;\">\n",
              "      <th></th>\n",
              "      <th>publish_date</th>\n",
              "      <th>headline_text</th>\n",
              "    </tr>\n",
              "  </thead>\n",
              "  <tbody>\n",
              "    <tr>\n",
              "      <th>0</th>\n",
              "      <td>2001-01-01</td>\n",
              "      <td>win over cena satisfying but defeating underta...</td>\n",
              "    </tr>\n",
              "    <tr>\n",
              "      <th>1</th>\n",
              "      <td>2001-01-02</td>\n",
              "      <td>Status quo will not be disturbed at Ayodhya; s...</td>\n",
              "    </tr>\n",
              "    <tr>\n",
              "      <th>2</th>\n",
              "      <td>2001-01-02</td>\n",
              "      <td>Status quo will not be disturbed at Ayodhya; s...</td>\n",
              "    </tr>\n",
              "    <tr>\n",
              "      <th>3</th>\n",
              "      <td>2001-01-02</td>\n",
              "      <td>Status quo will not be disturbed at Ayodhya; s...</td>\n",
              "    </tr>\n",
              "    <tr>\n",
              "      <th>4</th>\n",
              "      <td>2001-01-02</td>\n",
              "      <td>Status quo will not be disturbed at Ayodhya; s...</td>\n",
              "    </tr>\n",
              "    <tr>\n",
              "      <th>...</th>\n",
              "      <td>...</td>\n",
              "      <td>...</td>\n",
              "    </tr>\n",
              "    <tr>\n",
              "      <th>3297167</th>\n",
              "      <td>2020-06-30</td>\n",
              "      <td>Detective Byomkesh Bakshy! Edge of Tomorrow Fi...</td>\n",
              "    </tr>\n",
              "    <tr>\n",
              "      <th>3297168</th>\n",
              "      <td>2020-06-30</td>\n",
              "      <td>Detective Byomkesh Bakshy! Edge of Tomorrow Fi...</td>\n",
              "    </tr>\n",
              "    <tr>\n",
              "      <th>3297169</th>\n",
              "      <td>2020-06-30</td>\n",
              "      <td>Detective Byomkesh Bakshy! Edge of Tomorrow Fi...</td>\n",
              "    </tr>\n",
              "    <tr>\n",
              "      <th>3297170</th>\n",
              "      <td>2020-06-30</td>\n",
              "      <td>Detective Byomkesh Bakshy! Edge of Tomorrow Fi...</td>\n",
              "    </tr>\n",
              "    <tr>\n",
              "      <th>3297171</th>\n",
              "      <td>2020-06-30</td>\n",
              "      <td>Detective Byomkesh Bakshy! Edge of Tomorrow Fi...</td>\n",
              "    </tr>\n",
              "  </tbody>\n",
              "</table>\n",
              "<p>3297172 rows × 2 columns</p>\n",
              "</div>"
            ],
            "text/plain": [
              "        publish_date                                      headline_text\n",
              "0         2001-01-01  win over cena satisfying but defeating underta...\n",
              "1         2001-01-02  Status quo will not be disturbed at Ayodhya; s...\n",
              "2         2001-01-02  Status quo will not be disturbed at Ayodhya; s...\n",
              "3         2001-01-02  Status quo will not be disturbed at Ayodhya; s...\n",
              "4         2001-01-02  Status quo will not be disturbed at Ayodhya; s...\n",
              "...              ...                                                ...\n",
              "3297167   2020-06-30  Detective Byomkesh Bakshy! Edge of Tomorrow Fi...\n",
              "3297168   2020-06-30  Detective Byomkesh Bakshy! Edge of Tomorrow Fi...\n",
              "3297169   2020-06-30  Detective Byomkesh Bakshy! Edge of Tomorrow Fi...\n",
              "3297170   2020-06-30  Detective Byomkesh Bakshy! Edge of Tomorrow Fi...\n",
              "3297171   2020-06-30  Detective Byomkesh Bakshy! Edge of Tomorrow Fi...\n",
              "\n",
              "[3297172 rows x 2 columns]"
            ]
          },
          "metadata": {
            "tags": []
          },
          "execution_count": 10
        }
      ]
    },
    {
      "cell_type": "markdown",
      "metadata": {
        "id": "R_YlYHVCNoES"
      },
      "source": [
        "# Dropping duplicates and resetting the index"
      ]
    },
    {
      "cell_type": "code",
      "metadata": {
        "id": "Vz9jW5LEsqkF"
      },
      "source": [
        "df = df.drop_duplicates() \n",
        "df.reset_index(inplace=True,drop=True)"
      ],
      "execution_count": 11,
      "outputs": []
    },
    {
      "cell_type": "code",
      "metadata": {
        "colab": {
          "base_uri": "https://localhost:8080/",
          "height": 588
        },
        "id": "sYLcanK5sx8l",
        "outputId": "77086583-454e-4254-c0e4-c7b879fdf023"
      },
      "source": [
        "print('The Textual Dataset\\n\\n')\n",
        "print(df.shape,'\\n\\n\\n\\n')\n",
        "df"
      ],
      "execution_count": 12,
      "outputs": [
        {
          "output_type": "stream",
          "text": [
            "The Textual Dataset\n",
            "\n",
            "\n",
            "(7080, 2) \n",
            "\n",
            "\n",
            "\n",
            "\n"
          ],
          "name": "stdout"
        },
        {
          "output_type": "execute_result",
          "data": {
            "text/html": [
              "<div>\n",
              "<style scoped>\n",
              "    .dataframe tbody tr th:only-of-type {\n",
              "        vertical-align: middle;\n",
              "    }\n",
              "\n",
              "    .dataframe tbody tr th {\n",
              "        vertical-align: top;\n",
              "    }\n",
              "\n",
              "    .dataframe thead th {\n",
              "        text-align: right;\n",
              "    }\n",
              "</style>\n",
              "<table border=\"1\" class=\"dataframe\">\n",
              "  <thead>\n",
              "    <tr style=\"text-align: right;\">\n",
              "      <th></th>\n",
              "      <th>publish_date</th>\n",
              "      <th>headline_text</th>\n",
              "    </tr>\n",
              "  </thead>\n",
              "  <tbody>\n",
              "    <tr>\n",
              "      <th>0</th>\n",
              "      <td>2001-01-01</td>\n",
              "      <td>win over cena satisfying but defeating underta...</td>\n",
              "    </tr>\n",
              "    <tr>\n",
              "      <th>1</th>\n",
              "      <td>2001-01-02</td>\n",
              "      <td>Status quo will not be disturbed at Ayodhya; s...</td>\n",
              "    </tr>\n",
              "    <tr>\n",
              "      <th>2</th>\n",
              "      <td>2001-01-03</td>\n",
              "      <td>Powerless north India gropes in the dark Think...</td>\n",
              "    </tr>\n",
              "    <tr>\n",
              "      <th>3</th>\n",
              "      <td>2001-01-04</td>\n",
              "      <td>The string that pulled Stephen Hawking to Indi...</td>\n",
              "    </tr>\n",
              "    <tr>\n",
              "      <th>4</th>\n",
              "      <td>2001-01-05</td>\n",
              "      <td>Light combat craft takes India into club class...</td>\n",
              "    </tr>\n",
              "    <tr>\n",
              "      <th>...</th>\n",
              "      <td>...</td>\n",
              "      <td>...</td>\n",
              "    </tr>\n",
              "    <tr>\n",
              "      <th>7075</th>\n",
              "      <td>2020-06-26</td>\n",
              "      <td>Containment zone residents slam high prices ch...</td>\n",
              "    </tr>\n",
              "    <tr>\n",
              "      <th>7076</th>\n",
              "      <td>2020-06-27</td>\n",
              "      <td>like me i wont let you have a toxic relationsh...</td>\n",
              "    </tr>\n",
              "    <tr>\n",
              "      <th>7077</th>\n",
              "      <td>2020-06-28</td>\n",
              "      <td>Atanu Ghosh plans to rewrite old scripts to ma...</td>\n",
              "    </tr>\n",
              "    <tr>\n",
              "      <th>7078</th>\n",
              "      <td>2020-06-29</td>\n",
              "      <td>6 hot and stylish bikini looks of Katrina Kaif...</td>\n",
              "    </tr>\n",
              "    <tr>\n",
              "      <th>7079</th>\n",
              "      <td>2020-06-30</td>\n",
              "      <td>Detective Byomkesh Bakshy! Edge of Tomorrow Fi...</td>\n",
              "    </tr>\n",
              "  </tbody>\n",
              "</table>\n",
              "<p>7080 rows × 2 columns</p>\n",
              "</div>"
            ],
            "text/plain": [
              "     publish_date                                      headline_text\n",
              "0      2001-01-01  win over cena satisfying but defeating underta...\n",
              "1      2001-01-02  Status quo will not be disturbed at Ayodhya; s...\n",
              "2      2001-01-03  Powerless north India gropes in the dark Think...\n",
              "3      2001-01-04  The string that pulled Stephen Hawking to Indi...\n",
              "4      2001-01-05  Light combat craft takes India into club class...\n",
              "...           ...                                                ...\n",
              "7075   2020-06-26  Containment zone residents slam high prices ch...\n",
              "7076   2020-06-27  like me i wont let you have a toxic relationsh...\n",
              "7077   2020-06-28  Atanu Ghosh plans to rewrite old scripts to ma...\n",
              "7078   2020-06-29  6 hot and stylish bikini looks of Katrina Kaif...\n",
              "7079   2020-06-30  Detective Byomkesh Bakshy! Edge of Tomorrow Fi...\n",
              "\n",
              "[7080 rows x 2 columns]"
            ]
          },
          "metadata": {
            "tags": []
          },
          "execution_count": 12
        }
      ]
    },
    {
      "cell_type": "markdown",
      "metadata": {
        "id": "PBNQ3mSANqpc"
      },
      "source": [
        "# Extracting the polarity from the news headlines of the dataset\n"
      ]
    },
    {
      "cell_type": "code",
      "metadata": {
        "id": "TKGzl72ctQmN"
      },
      "source": [
        "polar= []\n",
        "for i in range(df.shape[0]):\n",
        "\n",
        "  polar.append(TextBlob(df['headline_text'][i]).sentiment.polarity)\n"
      ],
      "execution_count": null,
      "outputs": []
    },
    {
      "cell_type": "markdown",
      "metadata": {
        "id": "F8koDLhfNsoh"
      },
      "source": [
        "# Extracting the subjectivity from the news dataset\n"
      ]
    },
    {
      "cell_type": "code",
      "metadata": {
        "id": "T_gawHY2vAc4"
      },
      "source": [
        "subject= []\n",
        "\n",
        "for j in range(df.shape[0]):\n",
        "\n",
        "  subject.append(TextBlob(df['headline_text'][j]).sentiment.subjectivity)\n"
      ],
      "execution_count": null,
      "outputs": []
    },
    {
      "cell_type": "code",
      "metadata": {
        "colab": {
          "base_uri": "https://localhost:8080/"
        },
        "id": "Yy4C1jCpuY8N",
        "outputId": "f80945ac-67e2-4e8b-83c9-a09e3d9735c1"
      },
      "source": [
        "df['Polarity']= polar"
      ],
      "execution_count": 15,
      "outputs": [
        {
          "output_type": "stream",
          "text": [
            "/usr/local/lib/python3.6/dist-packages/ipykernel_launcher.py:1: SettingWithCopyWarning: \n",
            "A value is trying to be set on a copy of a slice from a DataFrame.\n",
            "Try using .loc[row_indexer,col_indexer] = value instead\n",
            "\n",
            "See the caveats in the documentation: https://pandas.pydata.org/pandas-docs/stable/user_guide/indexing.html#returning-a-view-versus-a-copy\n",
            "  \"\"\"Entry point for launching an IPython kernel.\n"
          ],
          "name": "stderr"
        }
      ]
    },
    {
      "cell_type": "code",
      "metadata": {
        "colab": {
          "base_uri": "https://localhost:8080/"
        },
        "id": "-waTXJGuw5Ok",
        "outputId": "a6f74fe5-ded2-4fbb-d153-bca89be1615a"
      },
      "source": [
        "df['Subjectivity'] = subject"
      ],
      "execution_count": 16,
      "outputs": [
        {
          "output_type": "stream",
          "text": [
            "/usr/local/lib/python3.6/dist-packages/ipykernel_launcher.py:1: SettingWithCopyWarning: \n",
            "A value is trying to be set on a copy of a slice from a DataFrame.\n",
            "Try using .loc[row_indexer,col_indexer] = value instead\n",
            "\n",
            "See the caveats in the documentation: https://pandas.pydata.org/pandas-docs/stable/user_guide/indexing.html#returning-a-view-versus-a-copy\n",
            "  \"\"\"Entry point for launching an IPython kernel.\n"
          ],
          "name": "stderr"
        }
      ]
    },
    {
      "cell_type": "code",
      "metadata": {
        "id": "G-8cKY2mw7o7",
        "colab": {
          "base_uri": "https://localhost:8080/",
          "height": 447
        },
        "outputId": "3356992f-05ad-43be-a722-926124026cb3"
      },
      "source": [
        "df"
      ],
      "execution_count": 17,
      "outputs": [
        {
          "output_type": "execute_result",
          "data": {
            "text/html": [
              "<div>\n",
              "<style scoped>\n",
              "    .dataframe tbody tr th:only-of-type {\n",
              "        vertical-align: middle;\n",
              "    }\n",
              "\n",
              "    .dataframe tbody tr th {\n",
              "        vertical-align: top;\n",
              "    }\n",
              "\n",
              "    .dataframe thead th {\n",
              "        text-align: right;\n",
              "    }\n",
              "</style>\n",
              "<table border=\"1\" class=\"dataframe\">\n",
              "  <thead>\n",
              "    <tr style=\"text-align: right;\">\n",
              "      <th></th>\n",
              "      <th>publish_date</th>\n",
              "      <th>headline_text</th>\n",
              "      <th>Polarity</th>\n",
              "      <th>Subjectivity</th>\n",
              "    </tr>\n",
              "  </thead>\n",
              "  <tbody>\n",
              "    <tr>\n",
              "      <th>0</th>\n",
              "      <td>2001-01-01</td>\n",
              "      <td>win over cena satisfying but defeating underta...</td>\n",
              "      <td>0.433333</td>\n",
              "      <td>0.633333</td>\n",
              "    </tr>\n",
              "    <tr>\n",
              "      <th>1</th>\n",
              "      <td>2001-01-02</td>\n",
              "      <td>Status quo will not be disturbed at Ayodhya; s...</td>\n",
              "      <td>0.151333</td>\n",
              "      <td>0.282333</td>\n",
              "    </tr>\n",
              "    <tr>\n",
              "      <th>2</th>\n",
              "      <td>2001-01-03</td>\n",
              "      <td>Powerless north India gropes in the dark Think...</td>\n",
              "      <td>0.088462</td>\n",
              "      <td>0.407692</td>\n",
              "    </tr>\n",
              "    <tr>\n",
              "      <th>3</th>\n",
              "      <td>2001-01-04</td>\n",
              "      <td>The string that pulled Stephen Hawking to Indi...</td>\n",
              "      <td>0.087961</td>\n",
              "      <td>0.446847</td>\n",
              "    </tr>\n",
              "    <tr>\n",
              "      <th>4</th>\n",
              "      <td>2001-01-05</td>\n",
              "      <td>Light combat craft takes India into club class...</td>\n",
              "      <td>0.262024</td>\n",
              "      <td>0.476612</td>\n",
              "    </tr>\n",
              "    <tr>\n",
              "      <th>...</th>\n",
              "      <td>...</td>\n",
              "      <td>...</td>\n",
              "      <td>...</td>\n",
              "      <td>...</td>\n",
              "    </tr>\n",
              "    <tr>\n",
              "      <th>7075</th>\n",
              "      <td>2020-06-26</td>\n",
              "      <td>Containment zone residents slam high prices ch...</td>\n",
              "      <td>0.068333</td>\n",
              "      <td>0.381841</td>\n",
              "    </tr>\n",
              "    <tr>\n",
              "      <th>7076</th>\n",
              "      <td>2020-06-27</td>\n",
              "      <td>like me i wont let you have a toxic relationsh...</td>\n",
              "      <td>0.079290</td>\n",
              "      <td>0.398808</td>\n",
              "    </tr>\n",
              "    <tr>\n",
              "      <th>7077</th>\n",
              "      <td>2020-06-28</td>\n",
              "      <td>Atanu Ghosh plans to rewrite old scripts to ma...</td>\n",
              "      <td>0.057636</td>\n",
              "      <td>0.402636</td>\n",
              "    </tr>\n",
              "    <tr>\n",
              "      <th>7078</th>\n",
              "      <td>2020-06-29</td>\n",
              "      <td>6 hot and stylish bikini looks of Katrina Kaif...</td>\n",
              "      <td>0.061956</td>\n",
              "      <td>0.396828</td>\n",
              "    </tr>\n",
              "    <tr>\n",
              "      <th>7079</th>\n",
              "      <td>2020-06-30</td>\n",
              "      <td>Detective Byomkesh Bakshy! Edge of Tomorrow Fi...</td>\n",
              "      <td>0.071554</td>\n",
              "      <td>0.384191</td>\n",
              "    </tr>\n",
              "  </tbody>\n",
              "</table>\n",
              "<p>7080 rows × 4 columns</p>\n",
              "</div>"
            ],
            "text/plain": [
              "     publish_date  ... Subjectivity\n",
              "0      2001-01-01  ...     0.633333\n",
              "1      2001-01-02  ...     0.282333\n",
              "2      2001-01-03  ...     0.407692\n",
              "3      2001-01-04  ...     0.446847\n",
              "4      2001-01-05  ...     0.476612\n",
              "...           ...  ...          ...\n",
              "7075   2020-06-26  ...     0.381841\n",
              "7076   2020-06-27  ...     0.398808\n",
              "7077   2020-06-28  ...     0.402636\n",
              "7078   2020-06-29  ...     0.396828\n",
              "7079   2020-06-30  ...     0.384191\n",
              "\n",
              "[7080 rows x 4 columns]"
            ]
          },
          "metadata": {
            "tags": []
          },
          "execution_count": 17
        }
      ]
    },
    {
      "cell_type": "code",
      "metadata": {
        "colab": {
          "base_uri": "https://localhost:8080/"
        },
        "id": "UFhXVnz7AwUI",
        "outputId": "54457bd8-da08-41eb-edf5-ddcba5c58418"
      },
      "source": [
        "len(df['headline_text'])"
      ],
      "execution_count": 18,
      "outputs": [
        {
          "output_type": "execute_result",
          "data": {
            "text/plain": [
              "7080"
            ]
          },
          "metadata": {
            "tags": []
          },
          "execution_count": 18
        }
      ]
    },
    {
      "cell_type": "markdown",
      "metadata": {
        "id": "-R-Avd52NvhF"
      },
      "source": [
        "# Acquiring Sentiment from the news headlines"
      ]
    },
    {
      "cell_type": "code",
      "metadata": {
        "id": "ba6mVEER_i_h"
      },
      "source": [
        "sa = SentimentIntensityAnalyzer()"
      ],
      "execution_count": 19,
      "outputs": []
    },
    {
      "cell_type": "code",
      "metadata": {
        "id": "oJefynKFAU1B"
      },
      "source": [
        "def SentimentAnlyser(txt, label):\n",
        "\n",
        "  list1= []\n",
        "  a= df.shape[0]\n",
        "\n",
        "  if label== 0:\n",
        "\n",
        "    for v in range(a):\n",
        "      list1.append(sa.polarity_scores(txt[v])['compound'])\n",
        "\n",
        "  elif label== -1:\n",
        "\n",
        "    for v in range(a):\n",
        "      list1.append(sa.polarity_scores(txt[v])['neg'])\n",
        "\n",
        "  elif label== 1:\n",
        "\n",
        "    for v in range(a):\n",
        "      list1.append(sa.polarity_scores(txt[v])['pos']) \n",
        "\n",
        "  else:\n",
        "\n",
        "    for v in range(a):\n",
        "      list1.append(sa.polarity_scores(txt[v])['neu'])\n",
        "\n",
        "  return list1"
      ],
      "execution_count": 23,
      "outputs": []
    },
    {
      "cell_type": "code",
      "metadata": {
        "colab": {
          "base_uri": "https://localhost:8080/"
        },
        "id": "X6ArXUzfBMbl",
        "outputId": "732b0f06-6f0a-4142-986e-3d3321ae5aa1"
      },
      "source": [
        "df['Compound']= SentimentAnlyser(df['headline_text'], label= 0)"
      ],
      "execution_count": 24,
      "outputs": [
        {
          "output_type": "stream",
          "text": [
            "/usr/local/lib/python3.6/dist-packages/ipykernel_launcher.py:1: SettingWithCopyWarning: \n",
            "A value is trying to be set on a copy of a slice from a DataFrame.\n",
            "Try using .loc[row_indexer,col_indexer] = value instead\n",
            "\n",
            "See the caveats in the documentation: https://pandas.pydata.org/pandas-docs/stable/user_guide/indexing.html#returning-a-view-versus-a-copy\n",
            "  \"\"\"Entry point for launching an IPython kernel.\n"
          ],
          "name": "stderr"
        }
      ]
    },
    {
      "cell_type": "code",
      "metadata": {
        "colab": {
          "base_uri": "https://localhost:8080/"
        },
        "id": "rnepFtuhBYEq",
        "outputId": "49cb8d4e-d364-4d0a-84cd-0d9e9a9140fe"
      },
      "source": [
        "df['Negative']= SentimentAnlyser(df['headline_text'],label= -1)"
      ],
      "execution_count": 26,
      "outputs": [
        {
          "output_type": "stream",
          "text": [
            "/usr/local/lib/python3.6/dist-packages/ipykernel_launcher.py:1: SettingWithCopyWarning: \n",
            "A value is trying to be set on a copy of a slice from a DataFrame.\n",
            "Try using .loc[row_indexer,col_indexer] = value instead\n",
            "\n",
            "See the caveats in the documentation: https://pandas.pydata.org/pandas-docs/stable/user_guide/indexing.html#returning-a-view-versus-a-copy\n",
            "  \"\"\"Entry point for launching an IPython kernel.\n"
          ],
          "name": "stderr"
        }
      ]
    },
    {
      "cell_type": "code",
      "metadata": {
        "colab": {
          "base_uri": "https://localhost:8080/"
        },
        "id": "f92Kb3svsnkJ",
        "outputId": "a2b20e7f-6f67-4055-ac87-d724fe8a0156"
      },
      "source": [
        "df['Positive']= SentimentAnlyser(df['headline_text'], label= 1)"
      ],
      "execution_count": 28,
      "outputs": [
        {
          "output_type": "stream",
          "text": [
            "/usr/local/lib/python3.6/dist-packages/ipykernel_launcher.py:1: SettingWithCopyWarning: \n",
            "A value is trying to be set on a copy of a slice from a DataFrame.\n",
            "Try using .loc[row_indexer,col_indexer] = value instead\n",
            "\n",
            "See the caveats in the documentation: https://pandas.pydata.org/pandas-docs/stable/user_guide/indexing.html#returning-a-view-versus-a-copy\n",
            "  \"\"\"Entry point for launching an IPython kernel.\n"
          ],
          "name": "stderr"
        }
      ]
    },
    {
      "cell_type": "code",
      "metadata": {
        "colab": {
          "base_uri": "https://localhost:8080/"
        },
        "id": "9EzF6DwcspAW",
        "outputId": "0398da3d-c38f-43f5-84f4-e5d336b309ff"
      },
      "source": [
        "df['Neutral']= SentimentAnlyser(df['headline_text'], label= 2)"
      ],
      "execution_count": 30,
      "outputs": [
        {
          "output_type": "stream",
          "text": [
            "/usr/local/lib/python3.6/dist-packages/ipykernel_launcher.py:1: SettingWithCopyWarning: \n",
            "A value is trying to be set on a copy of a slice from a DataFrame.\n",
            "Try using .loc[row_indexer,col_indexer] = value instead\n",
            "\n",
            "See the caveats in the documentation: https://pandas.pydata.org/pandas-docs/stable/user_guide/indexing.html#returning-a-view-versus-a-copy\n",
            "  \"\"\"Entry point for launching an IPython kernel.\n"
          ],
          "name": "stderr"
        }
      ]
    },
    {
      "cell_type": "code",
      "metadata": {
        "colab": {
          "base_uri": "https://localhost:8080/",
          "height": 447
        },
        "id": "dQmpAKF-v6FR",
        "outputId": "ecd86326-281f-4bc0-a664-3b537628c4f1"
      },
      "source": [
        "df"
      ],
      "execution_count": 32,
      "outputs": [
        {
          "output_type": "execute_result",
          "data": {
            "text/html": [
              "<div>\n",
              "<style scoped>\n",
              "    .dataframe tbody tr th:only-of-type {\n",
              "        vertical-align: middle;\n",
              "    }\n",
              "\n",
              "    .dataframe tbody tr th {\n",
              "        vertical-align: top;\n",
              "    }\n",
              "\n",
              "    .dataframe thead th {\n",
              "        text-align: right;\n",
              "    }\n",
              "</style>\n",
              "<table border=\"1\" class=\"dataframe\">\n",
              "  <thead>\n",
              "    <tr style=\"text-align: right;\">\n",
              "      <th></th>\n",
              "      <th>publish_date</th>\n",
              "      <th>headline_text</th>\n",
              "      <th>Polarity</th>\n",
              "      <th>Subjectivity</th>\n",
              "      <th>Compound</th>\n",
              "      <th>Negative</th>\n",
              "      <th>Positive</th>\n",
              "      <th>Neutral</th>\n",
              "    </tr>\n",
              "  </thead>\n",
              "  <tbody>\n",
              "    <tr>\n",
              "      <th>0</th>\n",
              "      <td>2001-01-01</td>\n",
              "      <td>win over cena satisfying but defeating underta...</td>\n",
              "      <td>0.433333</td>\n",
              "      <td>0.633333</td>\n",
              "      <td>-0.0000</td>\n",
              "      <td>0.230</td>\n",
              "      <td>0.297</td>\n",
              "      <td>0.473</td>\n",
              "    </tr>\n",
              "    <tr>\n",
              "      <th>1</th>\n",
              "      <td>2001-01-02</td>\n",
              "      <td>Status quo will not be disturbed at Ayodhya; s...</td>\n",
              "      <td>0.151333</td>\n",
              "      <td>0.282333</td>\n",
              "      <td>-0.9811</td>\n",
              "      <td>0.122</td>\n",
              "      <td>0.071</td>\n",
              "      <td>0.807</td>\n",
              "    </tr>\n",
              "    <tr>\n",
              "      <th>2</th>\n",
              "      <td>2001-01-03</td>\n",
              "      <td>Powerless north India gropes in the dark Think...</td>\n",
              "      <td>0.088462</td>\n",
              "      <td>0.407692</td>\n",
              "      <td>-0.2640</td>\n",
              "      <td>0.122</td>\n",
              "      <td>0.111</td>\n",
              "      <td>0.766</td>\n",
              "    </tr>\n",
              "    <tr>\n",
              "      <th>3</th>\n",
              "      <td>2001-01-04</td>\n",
              "      <td>The string that pulled Stephen Hawking to Indi...</td>\n",
              "      <td>0.087961</td>\n",
              "      <td>0.446847</td>\n",
              "      <td>0.8738</td>\n",
              "      <td>0.100</td>\n",
              "      <td>0.103</td>\n",
              "      <td>0.797</td>\n",
              "    </tr>\n",
              "    <tr>\n",
              "      <th>4</th>\n",
              "      <td>2001-01-05</td>\n",
              "      <td>Light combat craft takes India into club class...</td>\n",
              "      <td>0.262024</td>\n",
              "      <td>0.476612</td>\n",
              "      <td>0.9633</td>\n",
              "      <td>0.124</td>\n",
              "      <td>0.154</td>\n",
              "      <td>0.722</td>\n",
              "    </tr>\n",
              "    <tr>\n",
              "      <th>...</th>\n",
              "      <td>...</td>\n",
              "      <td>...</td>\n",
              "      <td>...</td>\n",
              "      <td>...</td>\n",
              "      <td>...</td>\n",
              "      <td>...</td>\n",
              "      <td>...</td>\n",
              "      <td>...</td>\n",
              "    </tr>\n",
              "    <tr>\n",
              "      <th>7075</th>\n",
              "      <td>2020-06-26</td>\n",
              "      <td>Containment zone residents slam high prices ch...</td>\n",
              "      <td>0.068333</td>\n",
              "      <td>0.381841</td>\n",
              "      <td>-0.9999</td>\n",
              "      <td>0.162</td>\n",
              "      <td>0.089</td>\n",
              "      <td>0.749</td>\n",
              "    </tr>\n",
              "    <tr>\n",
              "      <th>7076</th>\n",
              "      <td>2020-06-27</td>\n",
              "      <td>like me i wont let you have a toxic relationsh...</td>\n",
              "      <td>0.079290</td>\n",
              "      <td>0.398808</td>\n",
              "      <td>-0.9999</td>\n",
              "      <td>0.159</td>\n",
              "      <td>0.092</td>\n",
              "      <td>0.749</td>\n",
              "    </tr>\n",
              "    <tr>\n",
              "      <th>7077</th>\n",
              "      <td>2020-06-28</td>\n",
              "      <td>Atanu Ghosh plans to rewrite old scripts to ma...</td>\n",
              "      <td>0.057636</td>\n",
              "      <td>0.402636</td>\n",
              "      <td>-0.9999</td>\n",
              "      <td>0.147</td>\n",
              "      <td>0.074</td>\n",
              "      <td>0.779</td>\n",
              "    </tr>\n",
              "    <tr>\n",
              "      <th>7078</th>\n",
              "      <td>2020-06-29</td>\n",
              "      <td>6 hot and stylish bikini looks of Katrina Kaif...</td>\n",
              "      <td>0.061956</td>\n",
              "      <td>0.396828</td>\n",
              "      <td>-0.9999</td>\n",
              "      <td>0.142</td>\n",
              "      <td>0.085</td>\n",
              "      <td>0.773</td>\n",
              "    </tr>\n",
              "    <tr>\n",
              "      <th>7079</th>\n",
              "      <td>2020-06-30</td>\n",
              "      <td>Detective Byomkesh Bakshy! Edge of Tomorrow Fi...</td>\n",
              "      <td>0.071554</td>\n",
              "      <td>0.384191</td>\n",
              "      <td>-0.9999</td>\n",
              "      <td>0.135</td>\n",
              "      <td>0.072</td>\n",
              "      <td>0.793</td>\n",
              "    </tr>\n",
              "  </tbody>\n",
              "</table>\n",
              "<p>7080 rows × 8 columns</p>\n",
              "</div>"
            ],
            "text/plain": [
              "     publish_date  ... Neutral\n",
              "0      2001-01-01  ...   0.473\n",
              "1      2001-01-02  ...   0.807\n",
              "2      2001-01-03  ...   0.766\n",
              "3      2001-01-04  ...   0.797\n",
              "4      2001-01-05  ...   0.722\n",
              "...           ...  ...     ...\n",
              "7075   2020-06-26  ...   0.749\n",
              "7076   2020-06-27  ...   0.749\n",
              "7077   2020-06-28  ...   0.779\n",
              "7078   2020-06-29  ...   0.773\n",
              "7079   2020-06-30  ...   0.793\n",
              "\n",
              "[7080 rows x 8 columns]"
            ]
          },
          "metadata": {
            "tags": []
          },
          "execution_count": 32
        }
      ]
    },
    {
      "cell_type": "markdown",
      "metadata": {
        "id": "fsFAGsK2N009"
      },
      "source": [
        "# Loading Numerical Data"
      ]
    },
    {
      "cell_type": "code",
      "metadata": {
        "id": "qqF7q1eZv6iU"
      },
      "source": [
        "pdf= pd.read_csv('/content/drive/MyDrive/Sparks_inernship_datasets/^BSESN.csv')"
      ],
      "execution_count": 33,
      "outputs": []
    },
    {
      "cell_type": "code",
      "metadata": {
        "colab": {
          "base_uri": "https://localhost:8080/"
        },
        "id": "_AuIT2oZ7Occ",
        "outputId": "544bd07b-a693-4251-8c29-b7d4660b7051"
      },
      "source": [
        "pdf.shape"
      ],
      "execution_count": 34,
      "outputs": [
        {
          "output_type": "execute_result",
          "data": {
            "text/plain": [
              "(4868, 7)"
            ]
          },
          "metadata": {
            "tags": []
          },
          "execution_count": 34
        }
      ]
    },
    {
      "cell_type": "code",
      "metadata": {
        "colab": {
          "base_uri": "https://localhost:8080/",
          "height": 447
        },
        "id": "gIhORsVX7Qw0",
        "outputId": "8efc985d-6091-404c-82da-21dcd348fd60"
      },
      "source": [
        "pdf"
      ],
      "execution_count": 35,
      "outputs": [
        {
          "output_type": "execute_result",
          "data": {
            "text/html": [
              "<div>\n",
              "<style scoped>\n",
              "    .dataframe tbody tr th:only-of-type {\n",
              "        vertical-align: middle;\n",
              "    }\n",
              "\n",
              "    .dataframe tbody tr th {\n",
              "        vertical-align: top;\n",
              "    }\n",
              "\n",
              "    .dataframe thead th {\n",
              "        text-align: right;\n",
              "    }\n",
              "</style>\n",
              "<table border=\"1\" class=\"dataframe\">\n",
              "  <thead>\n",
              "    <tr style=\"text-align: right;\">\n",
              "      <th></th>\n",
              "      <th>Date</th>\n",
              "      <th>Open</th>\n",
              "      <th>High</th>\n",
              "      <th>Low</th>\n",
              "      <th>Close</th>\n",
              "      <th>Adj Close</th>\n",
              "      <th>Volume</th>\n",
              "    </tr>\n",
              "  </thead>\n",
              "  <tbody>\n",
              "    <tr>\n",
              "      <th>0</th>\n",
              "      <td>2001-01-02</td>\n",
              "      <td>3953.219971</td>\n",
              "      <td>4028.570068</td>\n",
              "      <td>3929.370117</td>\n",
              "      <td>4018.879883</td>\n",
              "      <td>4018.879883</td>\n",
              "      <td>0.0</td>\n",
              "    </tr>\n",
              "    <tr>\n",
              "      <th>1</th>\n",
              "      <td>2001-01-03</td>\n",
              "      <td>3977.580078</td>\n",
              "      <td>4067.659912</td>\n",
              "      <td>3977.580078</td>\n",
              "      <td>4060.020020</td>\n",
              "      <td>4060.020020</td>\n",
              "      <td>0.0</td>\n",
              "    </tr>\n",
              "    <tr>\n",
              "      <th>2</th>\n",
              "      <td>2001-01-04</td>\n",
              "      <td>4180.970215</td>\n",
              "      <td>4180.970215</td>\n",
              "      <td>4109.549805</td>\n",
              "      <td>4115.370117</td>\n",
              "      <td>4115.370117</td>\n",
              "      <td>0.0</td>\n",
              "    </tr>\n",
              "    <tr>\n",
              "      <th>3</th>\n",
              "      <td>2001-01-05</td>\n",
              "      <td>4116.339844</td>\n",
              "      <td>4195.009766</td>\n",
              "      <td>4115.350098</td>\n",
              "      <td>4183.729980</td>\n",
              "      <td>4183.729980</td>\n",
              "      <td>0.0</td>\n",
              "    </tr>\n",
              "    <tr>\n",
              "      <th>4</th>\n",
              "      <td>2001-01-08</td>\n",
              "      <td>4164.759766</td>\n",
              "      <td>4206.720215</td>\n",
              "      <td>4101.529785</td>\n",
              "      <td>4120.430176</td>\n",
              "      <td>4120.430176</td>\n",
              "      <td>0.0</td>\n",
              "    </tr>\n",
              "    <tr>\n",
              "      <th>...</th>\n",
              "      <td>...</td>\n",
              "      <td>...</td>\n",
              "      <td>...</td>\n",
              "      <td>...</td>\n",
              "      <td>...</td>\n",
              "      <td>...</td>\n",
              "      <td>...</td>\n",
              "    </tr>\n",
              "    <tr>\n",
              "      <th>4863</th>\n",
              "      <td>2020-06-23</td>\n",
              "      <td>35015.730469</td>\n",
              "      <td>35482.160156</td>\n",
              "      <td>34843.691406</td>\n",
              "      <td>35430.429688</td>\n",
              "      <td>35430.429688</td>\n",
              "      <td>25200.0</td>\n",
              "    </tr>\n",
              "    <tr>\n",
              "      <th>4864</th>\n",
              "      <td>2020-06-24</td>\n",
              "      <td>35679.738281</td>\n",
              "      <td>35706.550781</td>\n",
              "      <td>34794.929688</td>\n",
              "      <td>34868.980469</td>\n",
              "      <td>34868.980469</td>\n",
              "      <td>26600.0</td>\n",
              "    </tr>\n",
              "    <tr>\n",
              "      <th>4865</th>\n",
              "      <td>2020-06-25</td>\n",
              "      <td>34525.390625</td>\n",
              "      <td>35081.609375</td>\n",
              "      <td>34499.781250</td>\n",
              "      <td>34842.101563</td>\n",
              "      <td>34842.101563</td>\n",
              "      <td>24600.0</td>\n",
              "    </tr>\n",
              "    <tr>\n",
              "      <th>4866</th>\n",
              "      <td>2020-06-26</td>\n",
              "      <td>35144.781250</td>\n",
              "      <td>35254.878906</td>\n",
              "      <td>34910.339844</td>\n",
              "      <td>35171.269531</td>\n",
              "      <td>35171.269531</td>\n",
              "      <td>24800.0</td>\n",
              "    </tr>\n",
              "    <tr>\n",
              "      <th>4867</th>\n",
              "      <td>2020-06-29</td>\n",
              "      <td>34926.949219</td>\n",
              "      <td>35032.359375</td>\n",
              "      <td>34662.058594</td>\n",
              "      <td>34961.519531</td>\n",
              "      <td>34961.519531</td>\n",
              "      <td>18300.0</td>\n",
              "    </tr>\n",
              "  </tbody>\n",
              "</table>\n",
              "<p>4868 rows × 7 columns</p>\n",
              "</div>"
            ],
            "text/plain": [
              "            Date          Open  ...     Adj Close   Volume\n",
              "0     2001-01-02   3953.219971  ...   4018.879883      0.0\n",
              "1     2001-01-03   3977.580078  ...   4060.020020      0.0\n",
              "2     2001-01-04   4180.970215  ...   4115.370117      0.0\n",
              "3     2001-01-05   4116.339844  ...   4183.729980      0.0\n",
              "4     2001-01-08   4164.759766  ...   4120.430176      0.0\n",
              "...          ...           ...  ...           ...      ...\n",
              "4863  2020-06-23  35015.730469  ...  35430.429688  25200.0\n",
              "4864  2020-06-24  35679.738281  ...  34868.980469  26600.0\n",
              "4865  2020-06-25  34525.390625  ...  34842.101563  24600.0\n",
              "4866  2020-06-26  35144.781250  ...  35171.269531  24800.0\n",
              "4867  2020-06-29  34926.949219  ...  34961.519531  18300.0\n",
              "\n",
              "[4868 rows x 7 columns]"
            ]
          },
          "metadata": {
            "tags": []
          },
          "execution_count": 35
        }
      ]
    },
    {
      "cell_type": "code",
      "metadata": {
        "id": "FHsi1vHh7YVS"
      },
      "source": [
        ""
      ],
      "execution_count": null,
      "outputs": []
    },
    {
      "cell_type": "markdown",
      "metadata": {
        "id": "Vq-DGLYi7Y--"
      },
      "source": [
        "# Closing Points of BSE SENSEX"
      ]
    },
    {
      "cell_type": "code",
      "metadata": {
        "colab": {
          "base_uri": "https://localhost:8080/",
          "height": 591
        },
        "id": "Moiv0xe87Rg7",
        "outputId": "fa43dc52-5f72-41a0-fcab-9e368721bd13"
      },
      "source": [
        "plt.figure(figsize=(15,9))\n",
        "pdf['Close'].plot();\n",
        "plt.title('BSE SENSEX CLOSING POINTS')"
      ],
      "execution_count": 41,
      "outputs": [
        {
          "output_type": "execute_result",
          "data": {
            "text/plain": [
              "Text(0.5, 1.0, 'BSE SENSEX CLOSING POINTS')"
            ]
          },
          "metadata": {
            "tags": []
          },
          "execution_count": 41
        },
        {
          "output_type": "display_data",
          "data": {
            "image/png": "[encoded data removed]",
            "text/plain": [
              "<Figure size 1080x648 with 1 Axes>"
            ]
          },
          "metadata": {
            "tags": [],
            "needs_background": "light"
          }
        }
      ]
    },
    {
      "cell_type": "markdown",
      "metadata": {
        "id": "1VfY20X_N6CX"
      },
      "source": [
        "# Plotting Returns "
      ]
    },
    {
      "cell_type": "code",
      "metadata": {
        "id": "VOPHJ1sE7isL"
      },
      "source": [
        "pdf['Returns']=  ( pdf['Close'] / pdf['Close'].shift(1) ) - 1 "
      ],
      "execution_count": 42,
      "outputs": []
    },
    {
      "cell_type": "code",
      "metadata": {
        "colab": {
          "base_uri": "https://localhost:8080/",
          "height": 447
        },
        "id": "xFS-tIPn9Ybn",
        "outputId": "59c9798a-5954-4826-cc97-bfdc8c82087f"
      },
      "source": [
        "pdf"
      ],
      "execution_count": 43,
      "outputs": [
        {
          "output_type": "execute_result",
          "data": {
            "text/html": [
              "<div>\n",
              "<style scoped>\n",
              "    .dataframe tbody tr th:only-of-type {\n",
              "        vertical-align: middle;\n",
              "    }\n",
              "\n",
              "    .dataframe tbody tr th {\n",
              "        vertical-align: top;\n",
              "    }\n",
              "\n",
              "    .dataframe thead th {\n",
              "        text-align: right;\n",
              "    }\n",
              "</style>\n",
              "<table border=\"1\" class=\"dataframe\">\n",
              "  <thead>\n",
              "    <tr style=\"text-align: right;\">\n",
              "      <th></th>\n",
              "      <th>Date</th>\n",
              "      <th>Open</th>\n",
              "      <th>High</th>\n",
              "      <th>Low</th>\n",
              "      <th>Close</th>\n",
              "      <th>Adj Close</th>\n",
              "      <th>Volume</th>\n",
              "      <th>Returns</th>\n",
              "    </tr>\n",
              "  </thead>\n",
              "  <tbody>\n",
              "    <tr>\n",
              "      <th>0</th>\n",
              "      <td>2001-01-02</td>\n",
              "      <td>3953.219971</td>\n",
              "      <td>4028.570068</td>\n",
              "      <td>3929.370117</td>\n",
              "      <td>4018.879883</td>\n",
              "      <td>4018.879883</td>\n",
              "      <td>0.0</td>\n",
              "      <td>NaN</td>\n",
              "    </tr>\n",
              "    <tr>\n",
              "      <th>1</th>\n",
              "      <td>2001-01-03</td>\n",
              "      <td>3977.580078</td>\n",
              "      <td>4067.659912</td>\n",
              "      <td>3977.580078</td>\n",
              "      <td>4060.020020</td>\n",
              "      <td>4060.020020</td>\n",
              "      <td>0.0</td>\n",
              "      <td>0.010237</td>\n",
              "    </tr>\n",
              "    <tr>\n",
              "      <th>2</th>\n",
              "      <td>2001-01-04</td>\n",
              "      <td>4180.970215</td>\n",
              "      <td>4180.970215</td>\n",
              "      <td>4109.549805</td>\n",
              "      <td>4115.370117</td>\n",
              "      <td>4115.370117</td>\n",
              "      <td>0.0</td>\n",
              "      <td>0.013633</td>\n",
              "    </tr>\n",
              "    <tr>\n",
              "      <th>3</th>\n",
              "      <td>2001-01-05</td>\n",
              "      <td>4116.339844</td>\n",
              "      <td>4195.009766</td>\n",
              "      <td>4115.350098</td>\n",
              "      <td>4183.729980</td>\n",
              "      <td>4183.729980</td>\n",
              "      <td>0.0</td>\n",
              "      <td>0.016611</td>\n",
              "    </tr>\n",
              "    <tr>\n",
              "      <th>4</th>\n",
              "      <td>2001-01-08</td>\n",
              "      <td>4164.759766</td>\n",
              "      <td>4206.720215</td>\n",
              "      <td>4101.529785</td>\n",
              "      <td>4120.430176</td>\n",
              "      <td>4120.430176</td>\n",
              "      <td>0.0</td>\n",
              "      <td>-0.015130</td>\n",
              "    </tr>\n",
              "    <tr>\n",
              "      <th>...</th>\n",
              "      <td>...</td>\n",
              "      <td>...</td>\n",
              "      <td>...</td>\n",
              "      <td>...</td>\n",
              "      <td>...</td>\n",
              "      <td>...</td>\n",
              "      <td>...</td>\n",
              "      <td>...</td>\n",
              "    </tr>\n",
              "    <tr>\n",
              "      <th>4863</th>\n",
              "      <td>2020-06-23</td>\n",
              "      <td>35015.730469</td>\n",
              "      <td>35482.160156</td>\n",
              "      <td>34843.691406</td>\n",
              "      <td>35430.429688</td>\n",
              "      <td>35430.429688</td>\n",
              "      <td>25200.0</td>\n",
              "      <td>0.014869</td>\n",
              "    </tr>\n",
              "    <tr>\n",
              "      <th>4864</th>\n",
              "      <td>2020-06-24</td>\n",
              "      <td>35679.738281</td>\n",
              "      <td>35706.550781</td>\n",
              "      <td>34794.929688</td>\n",
              "      <td>34868.980469</td>\n",
              "      <td>34868.980469</td>\n",
              "      <td>26600.0</td>\n",
              "      <td>-0.015847</td>\n",
              "    </tr>\n",
              "    <tr>\n",
              "      <th>4865</th>\n",
              "      <td>2020-06-25</td>\n",
              "      <td>34525.390625</td>\n",
              "      <td>35081.609375</td>\n",
              "      <td>34499.781250</td>\n",
              "      <td>34842.101563</td>\n",
              "      <td>34842.101563</td>\n",
              "      <td>24600.0</td>\n",
              "      <td>-0.000771</td>\n",
              "    </tr>\n",
              "    <tr>\n",
              "      <th>4866</th>\n",
              "      <td>2020-06-26</td>\n",
              "      <td>35144.781250</td>\n",
              "      <td>35254.878906</td>\n",
              "      <td>34910.339844</td>\n",
              "      <td>35171.269531</td>\n",
              "      <td>35171.269531</td>\n",
              "      <td>24800.0</td>\n",
              "      <td>0.009447</td>\n",
              "    </tr>\n",
              "    <tr>\n",
              "      <th>4867</th>\n",
              "      <td>2020-06-29</td>\n",
              "      <td>34926.949219</td>\n",
              "      <td>35032.359375</td>\n",
              "      <td>34662.058594</td>\n",
              "      <td>34961.519531</td>\n",
              "      <td>34961.519531</td>\n",
              "      <td>18300.0</td>\n",
              "      <td>-0.005964</td>\n",
              "    </tr>\n",
              "  </tbody>\n",
              "</table>\n",
              "<p>4868 rows × 8 columns</p>\n",
              "</div>"
            ],
            "text/plain": [
              "            Date          Open          High  ...     Adj Close   Volume   Returns\n",
              "0     2001-01-02   3953.219971   4028.570068  ...   4018.879883      0.0       NaN\n",
              "1     2001-01-03   3977.580078   4067.659912  ...   4060.020020      0.0  0.010237\n",
              "2     2001-01-04   4180.970215   4180.970215  ...   4115.370117      0.0  0.013633\n",
              "3     2001-01-05   4116.339844   4195.009766  ...   4183.729980      0.0  0.016611\n",
              "4     2001-01-08   4164.759766   4206.720215  ...   4120.430176      0.0 -0.015130\n",
              "...          ...           ...           ...  ...           ...      ...       ...\n",
              "4863  2020-06-23  35015.730469  35482.160156  ...  35430.429688  25200.0  0.014869\n",
              "4864  2020-06-24  35679.738281  35706.550781  ...  34868.980469  26600.0 -0.015847\n",
              "4865  2020-06-25  34525.390625  35081.609375  ...  34842.101563  24600.0 -0.000771\n",
              "4866  2020-06-26  35144.781250  35254.878906  ...  35171.269531  24800.0  0.009447\n",
              "4867  2020-06-29  34926.949219  35032.359375  ...  34961.519531  18300.0 -0.005964\n",
              "\n",
              "[4868 rows x 8 columns]"
            ]
          },
          "metadata": {
            "tags": []
          },
          "execution_count": 43
        }
      ]
    },
    {
      "cell_type": "code",
      "metadata": {
        "colab": {
          "base_uri": "https://localhost:8080/",
          "height": 627
        },
        "id": "C6Gq35fp9Zpk",
        "outputId": "45b078a6-92d2-498b-a01f-2620918fe7d6"
      },
      "source": [
        "pdf['Returns'].plot(figsize= (16,10))\n",
        "plt.title('BSE SENSEX RETURNS')\n",
        "plt.show();"
      ],
      "execution_count": 45,
      "outputs": [
        {
          "output_type": "display_data",
          "data": {
            "image/png": "[encoded data removed]",
            "text/plain": [
              "<Figure size 1152x720 with 1 Axes>"
            ]
          },
          "metadata": {
            "tags": [],
            "needs_background": "light"
          }
        }
      ]
    },
    {
      "cell_type": "markdown",
      "metadata": {
        "id": "SJH4ewSlN-T_"
      },
      "source": [
        "# Plotting Moving Average\n"
      ]
    },
    {
      "cell_type": "code",
      "metadata": {
        "colab": {
          "base_uri": "https://localhost:8080/",
          "height": 883
        },
        "id": "EhebkZoE9hbS",
        "outputId": "9febb005-689f-4fdc-889d-c66ddb0e9f7a"
      },
      "source": [
        "mov_avg = pdf['Close'].rolling(window = 30).mean()\n",
        "\n",
        "plt.figure(figsize=(20,15))\n",
        "pdf['Close'].plot(color='g',label='Close')\n",
        "mov_avg.plot(color = 'r',label='Moving average')\n",
        "plt.legend()\n",
        "plt.show();"
      ],
      "execution_count": 49,
      "outputs": [
        {
          "output_type": "display_data",
          "data": {
            "image/png": "[encoded data removed]",
            "text/plain": [
              "<Figure size 1440x1080 with 1 Axes>"
            ]
          },
          "metadata": {
            "tags": [],
            "needs_background": "light"
          }
        }
      ]
    },
    {
      "cell_type": "markdown",
      "metadata": {
        "id": "iRD8nS24OBc1"
      },
      "source": [
        "# Plotting Moving Standard Deviation\n"
      ]
    },
    {
      "cell_type": "code",
      "metadata": {
        "colab": {
          "base_uri": "https://localhost:8080/",
          "height": 612
        },
        "id": "Ck27ddmp-I89",
        "outputId": "5d1f7243-ca53-4460-e332-90e7c2ab251e"
      },
      "source": [
        "\n",
        "std = pdf['Close'].rolling(window = 30).std()\n",
        "\n",
        "plt.figure(figsize=(20,10))\n",
        "pdf['Close'].plot(color='k',label='Close')\n",
        "std.plot(label = 'Moving Standard Deviation')\n",
        "\n",
        "plt.legend();"
      ],
      "execution_count": 61,
      "outputs": [
        {
          "output_type": "display_data",
          "data": {
            "image/png": "[encoded data removed]",
            "text/plain": [
              "<Figure size 1440x720 with 1 Axes>"
            ]
          },
          "metadata": {
            "tags": [],
            "needs_background": "light"
          }
        }
      ]
    },
    {
      "cell_type": "markdown",
      "metadata": {
        "id": "ulLILPY5OD2Z"
      },
      "source": [
        "# Concatinating the textual and numerical data frame"
      ]
    },
    {
      "cell_type": "code",
      "metadata": {
        "id": "NpB-3W8-_Jc3"
      },
      "source": [
        "complete_df= pd.concat([pdf, df], axis= 1, join= 'inner')"
      ],
      "execution_count": 66,
      "outputs": []
    },
    {
      "cell_type": "code",
      "metadata": {
        "colab": {
          "base_uri": "https://localhost:8080/",
          "height": 869
        },
        "id": "vCqAqGI1BEU9",
        "outputId": "7c6cfcb9-5751-4a59-829a-a97dd978d22b"
      },
      "source": [
        "complete_df"
      ],
      "execution_count": 67,
      "outputs": [
        {
          "output_type": "execute_result",
          "data": {
            "text/html": [
              "<div>\n",
              "<style scoped>\n",
              "    .dataframe tbody tr th:only-of-type {\n",
              "        vertical-align: middle;\n",
              "    }\n",
              "\n",
              "    .dataframe tbody tr th {\n",
              "        vertical-align: top;\n",
              "    }\n",
              "\n",
              "    .dataframe thead th {\n",
              "        text-align: right;\n",
              "    }\n",
              "</style>\n",
              "<table border=\"1\" class=\"dataframe\">\n",
              "  <thead>\n",
              "    <tr style=\"text-align: right;\">\n",
              "      <th></th>\n",
              "      <th>Date</th>\n",
              "      <th>Open</th>\n",
              "      <th>High</th>\n",
              "      <th>Low</th>\n",
              "      <th>Close</th>\n",
              "      <th>Adj Close</th>\n",
              "      <th>Volume</th>\n",
              "      <th>Returns</th>\n",
              "      <th>publish_date</th>\n",
              "      <th>headline_text</th>\n",
              "      <th>Polarity</th>\n",
              "      <th>Subjectivity</th>\n",
              "      <th>Compound</th>\n",
              "      <th>Negative</th>\n",
              "      <th>Positive</th>\n",
              "      <th>Neutral</th>\n",
              "    </tr>\n",
              "  </thead>\n",
              "  <tbody>\n",
              "    <tr>\n",
              "      <th>0</th>\n",
              "      <td>2001-01-02</td>\n",
              "      <td>3953.219971</td>\n",
              "      <td>4028.570068</td>\n",
              "      <td>3929.370117</td>\n",
              "      <td>4018.879883</td>\n",
              "      <td>4018.879883</td>\n",
              "      <td>0.0</td>\n",
              "      <td>NaN</td>\n",
              "      <td>2001-01-01</td>\n",
              "      <td>win over cena satisfying but defeating underta...</td>\n",
              "      <td>0.433333</td>\n",
              "      <td>0.633333</td>\n",
              "      <td>-0.0000</td>\n",
              "      <td>0.230</td>\n",
              "      <td>0.297</td>\n",
              "      <td>0.473</td>\n",
              "    </tr>\n",
              "    <tr>\n",
              "      <th>1</th>\n",
              "      <td>2001-01-03</td>\n",
              "      <td>3977.580078</td>\n",
              "      <td>4067.659912</td>\n",
              "      <td>3977.580078</td>\n",
              "      <td>4060.020020</td>\n",
              "      <td>4060.020020</td>\n",
              "      <td>0.0</td>\n",
              "      <td>0.010237</td>\n",
              "      <td>2001-01-02</td>\n",
              "      <td>Status quo will not be disturbed at Ayodhya; s...</td>\n",
              "      <td>0.151333</td>\n",
              "      <td>0.282333</td>\n",
              "      <td>-0.9811</td>\n",
              "      <td>0.122</td>\n",
              "      <td>0.071</td>\n",
              "      <td>0.807</td>\n",
              "    </tr>\n",
              "    <tr>\n",
              "      <th>2</th>\n",
              "      <td>2001-01-04</td>\n",
              "      <td>4180.970215</td>\n",
              "      <td>4180.970215</td>\n",
              "      <td>4109.549805</td>\n",
              "      <td>4115.370117</td>\n",
              "      <td>4115.370117</td>\n",
              "      <td>0.0</td>\n",
              "      <td>0.013633</td>\n",
              "      <td>2001-01-03</td>\n",
              "      <td>Powerless north India gropes in the dark Think...</td>\n",
              "      <td>0.088462</td>\n",
              "      <td>0.407692</td>\n",
              "      <td>-0.2640</td>\n",
              "      <td>0.122</td>\n",
              "      <td>0.111</td>\n",
              "      <td>0.766</td>\n",
              "    </tr>\n",
              "    <tr>\n",
              "      <th>3</th>\n",
              "      <td>2001-01-05</td>\n",
              "      <td>4116.339844</td>\n",
              "      <td>4195.009766</td>\n",
              "      <td>4115.350098</td>\n",
              "      <td>4183.729980</td>\n",
              "      <td>4183.729980</td>\n",
              "      <td>0.0</td>\n",
              "      <td>0.016611</td>\n",
              "      <td>2001-01-04</td>\n",
              "      <td>The string that pulled Stephen Hawking to Indi...</td>\n",
              "      <td>0.087961</td>\n",
              "      <td>0.446847</td>\n",
              "      <td>0.8738</td>\n",
              "      <td>0.100</td>\n",
              "      <td>0.103</td>\n",
              "      <td>0.797</td>\n",
              "    </tr>\n",
              "    <tr>\n",
              "      <th>4</th>\n",
              "      <td>2001-01-08</td>\n",
              "      <td>4164.759766</td>\n",
              "      <td>4206.720215</td>\n",
              "      <td>4101.529785</td>\n",
              "      <td>4120.430176</td>\n",
              "      <td>4120.430176</td>\n",
              "      <td>0.0</td>\n",
              "      <td>-0.015130</td>\n",
              "      <td>2001-01-05</td>\n",
              "      <td>Light combat craft takes India into club class...</td>\n",
              "      <td>0.262024</td>\n",
              "      <td>0.476612</td>\n",
              "      <td>0.9633</td>\n",
              "      <td>0.124</td>\n",
              "      <td>0.154</td>\n",
              "      <td>0.722</td>\n",
              "    </tr>\n",
              "    <tr>\n",
              "      <th>...</th>\n",
              "      <td>...</td>\n",
              "      <td>...</td>\n",
              "      <td>...</td>\n",
              "      <td>...</td>\n",
              "      <td>...</td>\n",
              "      <td>...</td>\n",
              "      <td>...</td>\n",
              "      <td>...</td>\n",
              "      <td>...</td>\n",
              "      <td>...</td>\n",
              "      <td>...</td>\n",
              "      <td>...</td>\n",
              "      <td>...</td>\n",
              "      <td>...</td>\n",
              "      <td>...</td>\n",
              "      <td>...</td>\n",
              "    </tr>\n",
              "    <tr>\n",
              "      <th>4863</th>\n",
              "      <td>2020-06-23</td>\n",
              "      <td>35015.730469</td>\n",
              "      <td>35482.160156</td>\n",
              "      <td>34843.691406</td>\n",
              "      <td>35430.429688</td>\n",
              "      <td>35430.429688</td>\n",
              "      <td>25200.0</td>\n",
              "      <td>0.014869</td>\n",
              "      <td>2014-06-06</td>\n",
              "      <td>Restro review: Infinitea (Tea bar and restaura...</td>\n",
              "      <td>0.038086</td>\n",
              "      <td>0.406892</td>\n",
              "      <td>-0.9998</td>\n",
              "      <td>0.126</td>\n",
              "      <td>0.076</td>\n",
              "      <td>0.799</td>\n",
              "    </tr>\n",
              "    <tr>\n",
              "      <th>4864</th>\n",
              "      <td>2020-06-24</td>\n",
              "      <td>35679.738281</td>\n",
              "      <td>35706.550781</td>\n",
              "      <td>34794.929688</td>\n",
              "      <td>34868.980469</td>\n",
              "      <td>34868.980469</td>\n",
              "      <td>26600.0</td>\n",
              "      <td>-0.015847</td>\n",
              "      <td>2014-06-07</td>\n",
              "      <td>Home remedies to keep you super fit How to han...</td>\n",
              "      <td>0.079860</td>\n",
              "      <td>0.380602</td>\n",
              "      <td>-0.9999</td>\n",
              "      <td>0.152</td>\n",
              "      <td>0.077</td>\n",
              "      <td>0.771</td>\n",
              "    </tr>\n",
              "    <tr>\n",
              "      <th>4865</th>\n",
              "      <td>2020-06-25</td>\n",
              "      <td>34525.390625</td>\n",
              "      <td>35081.609375</td>\n",
              "      <td>34499.781250</td>\n",
              "      <td>34842.101563</td>\n",
              "      <td>34842.101563</td>\n",
              "      <td>24600.0</td>\n",
              "      <td>-0.000771</td>\n",
              "      <td>2014-06-08</td>\n",
              "      <td>Paneer-capsicum dry sabzi recipe Fashion week ...</td>\n",
              "      <td>0.087219</td>\n",
              "      <td>0.395196</td>\n",
              "      <td>-0.9999</td>\n",
              "      <td>0.166</td>\n",
              "      <td>0.119</td>\n",
              "      <td>0.715</td>\n",
              "    </tr>\n",
              "    <tr>\n",
              "      <th>4866</th>\n",
              "      <td>2020-06-26</td>\n",
              "      <td>35144.781250</td>\n",
              "      <td>35254.878906</td>\n",
              "      <td>34910.339844</td>\n",
              "      <td>35171.269531</td>\n",
              "      <td>35171.269531</td>\n",
              "      <td>24800.0</td>\n",
              "      <td>0.009447</td>\n",
              "      <td>2014-06-09</td>\n",
              "      <td>Give your dog a summer look WIFW '14: Leather ...</td>\n",
              "      <td>0.084809</td>\n",
              "      <td>0.396887</td>\n",
              "      <td>-0.9999</td>\n",
              "      <td>0.164</td>\n",
              "      <td>0.106</td>\n",
              "      <td>0.730</td>\n",
              "    </tr>\n",
              "    <tr>\n",
              "      <th>4867</th>\n",
              "      <td>2020-06-29</td>\n",
              "      <td>34926.949219</td>\n",
              "      <td>35032.359375</td>\n",
              "      <td>34662.058594</td>\n",
              "      <td>34961.519531</td>\n",
              "      <td>34961.519531</td>\n",
              "      <td>18300.0</td>\n",
              "      <td>-0.005964</td>\n",
              "      <td>2014-06-10</td>\n",
              "      <td>Make your flowers last longer Recipe: Almond M...</td>\n",
              "      <td>0.057309</td>\n",
              "      <td>0.400185</td>\n",
              "      <td>-0.9999</td>\n",
              "      <td>0.160</td>\n",
              "      <td>0.097</td>\n",
              "      <td>0.743</td>\n",
              "    </tr>\n",
              "  </tbody>\n",
              "</table>\n",
              "<p>4868 rows × 16 columns</p>\n",
              "</div>"
            ],
            "text/plain": [
              "            Date          Open          High  ...  Negative  Positive  Neutral\n",
              "0     2001-01-02   3953.219971   4028.570068  ...     0.230     0.297    0.473\n",
              "1     2001-01-03   3977.580078   4067.659912  ...     0.122     0.071    0.807\n",
              "2     2001-01-04   4180.970215   4180.970215  ...     0.122     0.111    0.766\n",
              "3     2001-01-05   4116.339844   4195.009766  ...     0.100     0.103    0.797\n",
              "4     2001-01-08   4164.759766   4206.720215  ...     0.124     0.154    0.722\n",
              "...          ...           ...           ...  ...       ...       ...      ...\n",
              "4863  2020-06-23  35015.730469  35482.160156  ...     0.126     0.076    0.799\n",
              "4864  2020-06-24  35679.738281  35706.550781  ...     0.152     0.077    0.771\n",
              "4865  2020-06-25  34525.390625  35081.609375  ...     0.166     0.119    0.715\n",
              "4866  2020-06-26  35144.781250  35254.878906  ...     0.164     0.106    0.730\n",
              "4867  2020-06-29  34926.949219  35032.359375  ...     0.160     0.097    0.743\n",
              "\n",
              "[4868 rows x 16 columns]"
            ]
          },
          "metadata": {
            "tags": []
          },
          "execution_count": 67
        }
      ]
    },
    {
      "cell_type": "code",
      "metadata": {
        "colab": {
          "base_uri": "https://localhost:8080/"
        },
        "id": "zE5SPe2rBzfN",
        "outputId": "b36fbc92-7e17-45b1-8171-5d6339dda518"
      },
      "source": [
        "complete_df.shape"
      ],
      "execution_count": 68,
      "outputs": [
        {
          "output_type": "execute_result",
          "data": {
            "text/plain": [
              "(4868, 16)"
            ]
          },
          "metadata": {
            "tags": []
          },
          "execution_count": 68
        }
      ]
    },
    {
      "cell_type": "markdown",
      "metadata": {
        "id": "OedV0oN2OKYW"
      },
      "source": [
        "# Retainig only required features"
      ]
    },
    {
      "cell_type": "code",
      "metadata": {
        "id": "23IjnOdtB5Eb"
      },
      "source": [
        "final_df = complete_df[['Close', 'Polarity', 'Negative', 'Neutral', 'Positive', 'Compound', 'Subjectivity']]"
      ],
      "execution_count": 69,
      "outputs": []
    },
    {
      "cell_type": "code",
      "metadata": {
        "colab": {
          "base_uri": "https://localhost:8080/",
          "height": 447
        },
        "id": "n5ca50mFDZwA",
        "outputId": "07119a82-8923-417f-e63f-e8b38e7b4cdb"
      },
      "source": [
        "final_df"
      ],
      "execution_count": 70,
      "outputs": [
        {
          "output_type": "execute_result",
          "data": {
            "text/html": [
              "<div>\n",
              "<style scoped>\n",
              "    .dataframe tbody tr th:only-of-type {\n",
              "        vertical-align: middle;\n",
              "    }\n",
              "\n",
              "    .dataframe tbody tr th {\n",
              "        vertical-align: top;\n",
              "    }\n",
              "\n",
              "    .dataframe thead th {\n",
              "        text-align: right;\n",
              "    }\n",
              "</style>\n",
              "<table border=\"1\" class=\"dataframe\">\n",
              "  <thead>\n",
              "    <tr style=\"text-align: right;\">\n",
              "      <th></th>\n",
              "      <th>Close</th>\n",
              "      <th>Polarity</th>\n",
              "      <th>Negative</th>\n",
              "      <th>Neutral</th>\n",
              "      <th>Positive</th>\n",
              "      <th>Compound</th>\n",
              "      <th>Subjectivity</th>\n",
              "    </tr>\n",
              "  </thead>\n",
              "  <tbody>\n",
              "    <tr>\n",
              "      <th>0</th>\n",
              "      <td>4018.879883</td>\n",
              "      <td>0.433333</td>\n",
              "      <td>0.230</td>\n",
              "      <td>0.473</td>\n",
              "      <td>0.297</td>\n",
              "      <td>-0.0000</td>\n",
              "      <td>0.633333</td>\n",
              "    </tr>\n",
              "    <tr>\n",
              "      <th>1</th>\n",
              "      <td>4060.020020</td>\n",
              "      <td>0.151333</td>\n",
              "      <td>0.122</td>\n",
              "      <td>0.807</td>\n",
              "      <td>0.071</td>\n",
              "      <td>-0.9811</td>\n",
              "      <td>0.282333</td>\n",
              "    </tr>\n",
              "    <tr>\n",
              "      <th>2</th>\n",
              "      <td>4115.370117</td>\n",
              "      <td>0.088462</td>\n",
              "      <td>0.122</td>\n",
              "      <td>0.766</td>\n",
              "      <td>0.111</td>\n",
              "      <td>-0.2640</td>\n",
              "      <td>0.407692</td>\n",
              "    </tr>\n",
              "    <tr>\n",
              "      <th>3</th>\n",
              "      <td>4183.729980</td>\n",
              "      <td>0.087961</td>\n",
              "      <td>0.100</td>\n",
              "      <td>0.797</td>\n",
              "      <td>0.103</td>\n",
              "      <td>0.8738</td>\n",
              "      <td>0.446847</td>\n",
              "    </tr>\n",
              "    <tr>\n",
              "      <th>4</th>\n",
              "      <td>4120.430176</td>\n",
              "      <td>0.262024</td>\n",
              "      <td>0.124</td>\n",
              "      <td>0.722</td>\n",
              "      <td>0.154</td>\n",
              "      <td>0.9633</td>\n",
              "      <td>0.476612</td>\n",
              "    </tr>\n",
              "    <tr>\n",
              "      <th>...</th>\n",
              "      <td>...</td>\n",
              "      <td>...</td>\n",
              "      <td>...</td>\n",
              "      <td>...</td>\n",
              "      <td>...</td>\n",
              "      <td>...</td>\n",
              "      <td>...</td>\n",
              "    </tr>\n",
              "    <tr>\n",
              "      <th>4863</th>\n",
              "      <td>35430.429688</td>\n",
              "      <td>0.038086</td>\n",
              "      <td>0.126</td>\n",
              "      <td>0.799</td>\n",
              "      <td>0.076</td>\n",
              "      <td>-0.9998</td>\n",
              "      <td>0.406892</td>\n",
              "    </tr>\n",
              "    <tr>\n",
              "      <th>4864</th>\n",
              "      <td>34868.980469</td>\n",
              "      <td>0.079860</td>\n",
              "      <td>0.152</td>\n",
              "      <td>0.771</td>\n",
              "      <td>0.077</td>\n",
              "      <td>-0.9999</td>\n",
              "      <td>0.380602</td>\n",
              "    </tr>\n",
              "    <tr>\n",
              "      <th>4865</th>\n",
              "      <td>34842.101563</td>\n",
              "      <td>0.087219</td>\n",
              "      <td>0.166</td>\n",
              "      <td>0.715</td>\n",
              "      <td>0.119</td>\n",
              "      <td>-0.9999</td>\n",
              "      <td>0.395196</td>\n",
              "    </tr>\n",
              "    <tr>\n",
              "      <th>4866</th>\n",
              "      <td>35171.269531</td>\n",
              "      <td>0.084809</td>\n",
              "      <td>0.164</td>\n",
              "      <td>0.730</td>\n",
              "      <td>0.106</td>\n",
              "      <td>-0.9999</td>\n",
              "      <td>0.396887</td>\n",
              "    </tr>\n",
              "    <tr>\n",
              "      <th>4867</th>\n",
              "      <td>34961.519531</td>\n",
              "      <td>0.057309</td>\n",
              "      <td>0.160</td>\n",
              "      <td>0.743</td>\n",
              "      <td>0.097</td>\n",
              "      <td>-0.9999</td>\n",
              "      <td>0.400185</td>\n",
              "    </tr>\n",
              "  </tbody>\n",
              "</table>\n",
              "<p>4868 rows × 7 columns</p>\n",
              "</div>"
            ],
            "text/plain": [
              "             Close  Polarity  Negative  ...  Positive  Compound  Subjectivity\n",
              "0      4018.879883  0.433333     0.230  ...     0.297   -0.0000      0.633333\n",
              "1      4060.020020  0.151333     0.122  ...     0.071   -0.9811      0.282333\n",
              "2      4115.370117  0.088462     0.122  ...     0.111   -0.2640      0.407692\n",
              "3      4183.729980  0.087961     0.100  ...     0.103    0.8738      0.446847\n",
              "4      4120.430176  0.262024     0.124  ...     0.154    0.9633      0.476612\n",
              "...            ...       ...       ...  ...       ...       ...           ...\n",
              "4863  35430.429688  0.038086     0.126  ...     0.076   -0.9998      0.406892\n",
              "4864  34868.980469  0.079860     0.152  ...     0.077   -0.9999      0.380602\n",
              "4865  34842.101563  0.087219     0.166  ...     0.119   -0.9999      0.395196\n",
              "4866  35171.269531  0.084809     0.164  ...     0.106   -0.9999      0.396887\n",
              "4867  34961.519531  0.057309     0.160  ...     0.097   -0.9999      0.400185\n",
              "\n",
              "[4868 rows x 7 columns]"
            ]
          },
          "metadata": {
            "tags": []
          },
          "execution_count": 70
        }
      ]
    },
    {
      "cell_type": "code",
      "metadata": {
        "colab": {
          "base_uri": "https://localhost:8080/"
        },
        "id": "bJzga_s-Da_N",
        "outputId": "6fa8a985-c48f-4489-d80a-9fb740281f35"
      },
      "source": [
        "final_df.shape"
      ],
      "execution_count": 72,
      "outputs": [
        {
          "output_type": "execute_result",
          "data": {
            "text/plain": [
              "(4868, 7)"
            ]
          },
          "metadata": {
            "tags": []
          },
          "execution_count": 72
        }
      ]
    },
    {
      "cell_type": "markdown",
      "metadata": {
        "id": "ESqkyUb2OOk3"
      },
      "source": [
        "# Standardising the Dataset"
      ]
    },
    {
      "cell_type": "code",
      "metadata": {
        "id": "kjkrNEqWDd5W"
      },
      "source": [
        "sc= StandardScaler()"
      ],
      "execution_count": 73,
      "outputs": []
    },
    {
      "cell_type": "code",
      "metadata": {
        "colab": {
          "base_uri": "https://localhost:8080/",
          "height": 228
        },
        "id": "duNbViSTEUFq",
        "outputId": "c7667388-9227-4787-abba-c115a2191207"
      },
      "source": [
        "DF = pd.DataFrame(sc.fit_transform(final_df))\n",
        "\n",
        "DF.columns = final_df.columns\n",
        "DF.index = final_df.index\n",
        "\n",
        "DF.head()"
      ],
      "execution_count": 77,
      "outputs": [
        {
          "output_type": "execute_result",
          "data": {
            "text/html": [
              "<div>\n",
              "<style scoped>\n",
              "    .dataframe tbody tr th:only-of-type {\n",
              "        vertical-align: middle;\n",
              "    }\n",
              "\n",
              "    .dataframe tbody tr th {\n",
              "        vertical-align: top;\n",
              "    }\n",
              "\n",
              "    .dataframe thead th {\n",
              "        text-align: right;\n",
              "    }\n",
              "</style>\n",
              "<table border=\"1\" class=\"dataframe\">\n",
              "  <thead>\n",
              "    <tr style=\"text-align: right;\">\n",
              "      <th></th>\n",
              "      <th>Close</th>\n",
              "      <th>Polarity</th>\n",
              "      <th>Negative</th>\n",
              "      <th>Neutral</th>\n",
              "      <th>Positive</th>\n",
              "      <th>Compound</th>\n",
              "      <th>Subjectivity</th>\n",
              "    </tr>\n",
              "  </thead>\n",
              "  <tbody>\n",
              "    <tr>\n",
              "      <th>0</th>\n",
              "      <td>-1.295200</td>\n",
              "      <td>8.086045</td>\n",
              "      <td>2.723366</td>\n",
              "      <td>-7.247261</td>\n",
              "      <td>8.157552</td>\n",
              "      <td>2.014810</td>\n",
              "      <td>5.133686</td>\n",
              "    </tr>\n",
              "    <tr>\n",
              "      <th>1</th>\n",
              "      <td>-1.291392</td>\n",
              "      <td>1.832317</td>\n",
              "      <td>-0.924366</td>\n",
              "      <td>1.458278</td>\n",
              "      <td>-1.180896</td>\n",
              "      <td>-0.232702</td>\n",
              "      <td>-2.748011</td>\n",
              "    </tr>\n",
              "    <tr>\n",
              "      <th>2</th>\n",
              "      <td>-1.286268</td>\n",
              "      <td>0.438050</td>\n",
              "      <td>-0.924366</td>\n",
              "      <td>0.389634</td>\n",
              "      <td>0.471927</td>\n",
              "      <td>1.410037</td>\n",
              "      <td>0.066922</td>\n",
              "    </tr>\n",
              "    <tr>\n",
              "      <th>3</th>\n",
              "      <td>-1.279940</td>\n",
              "      <td>0.426957</td>\n",
              "      <td>-1.667423</td>\n",
              "      <td>1.197633</td>\n",
              "      <td>0.141363</td>\n",
              "      <td>4.016519</td>\n",
              "      <td>0.946146</td>\n",
              "    </tr>\n",
              "    <tr>\n",
              "      <th>4</th>\n",
              "      <td>-1.285800</td>\n",
              "      <td>4.287038</td>\n",
              "      <td>-0.856816</td>\n",
              "      <td>-0.757203</td>\n",
              "      <td>2.248711</td>\n",
              "      <td>4.221547</td>\n",
              "      <td>1.614513</td>\n",
              "    </tr>\n",
              "  </tbody>\n",
              "</table>\n",
              "</div>"
            ],
            "text/plain": [
              "      Close  Polarity  Negative   Neutral  Positive  Compound  Subjectivity\n",
              "0 -1.295200  8.086045  2.723366 -7.247261  8.157552  2.014810      5.133686\n",
              "1 -1.291392  1.832317 -0.924366  1.458278 -1.180896 -0.232702     -2.748011\n",
              "2 -1.286268  0.438050 -0.924366  0.389634  0.471927  1.410037      0.066922\n",
              "3 -1.279940  0.426957 -1.667423  1.197633  0.141363  4.016519      0.946146\n",
              "4 -1.285800  4.287038 -0.856816 -0.757203  2.248711  4.221547      1.614513"
            ]
          },
          "metadata": {
            "tags": []
          },
          "execution_count": 77
        }
      ]
    },
    {
      "cell_type": "code",
      "metadata": {
        "colab": {
          "base_uri": "https://localhost:8080/"
        },
        "id": "n8wPebVDFqmA",
        "outputId": "14ede891-9fd3-4ade-f653-817cf8348ada"
      },
      "source": [
        "DF.isnull().sum()"
      ],
      "execution_count": 86,
      "outputs": [
        {
          "output_type": "execute_result",
          "data": {
            "text/plain": [
              "Close           75\n",
              "Polarity         0\n",
              "Negative         0\n",
              "Neutral          0\n",
              "Positive         0\n",
              "Compound         0\n",
              "Subjectivity     0\n",
              "dtype: int64"
            ]
          },
          "metadata": {
            "tags": []
          },
          "execution_count": 86
        }
      ]
    },
    {
      "cell_type": "code",
      "metadata": {
        "id": "4R7TteFgGBUE"
      },
      "source": [
        "DF.dropna(subset = [\"Close\"], inplace=True)"
      ],
      "execution_count": 90,
      "outputs": []
    },
    {
      "cell_type": "code",
      "metadata": {
        "colab": {
          "base_uri": "https://localhost:8080/"
        },
        "id": "H2fjQSloGF8Y",
        "outputId": "f27534ed-ee5c-4db3-e227-9d88006629ed"
      },
      "source": [
        "DF.isnull().sum()"
      ],
      "execution_count": 91,
      "outputs": [
        {
          "output_type": "execute_result",
          "data": {
            "text/plain": [
              "Close           0\n",
              "Polarity        0\n",
              "Negative        0\n",
              "Neutral         0\n",
              "Positive        0\n",
              "Compound        0\n",
              "Subjectivity    0\n",
              "dtype: int64"
            ]
          },
          "metadata": {
            "tags": []
          },
          "execution_count": 91
        }
      ]
    },
    {
      "cell_type": "code",
      "metadata": {
        "colab": {
          "base_uri": "https://localhost:8080/"
        },
        "id": "cuFL2w-SGPio",
        "outputId": "d9fa7fc3-801d-4b3b-d834-d162367af96c"
      },
      "source": [
        "DF.shape"
      ],
      "execution_count": 92,
      "outputs": [
        {
          "output_type": "execute_result",
          "data": {
            "text/plain": [
              "(4793, 7)"
            ]
          },
          "metadata": {
            "tags": []
          },
          "execution_count": 92
        }
      ]
    },
    {
      "cell_type": "markdown",
      "metadata": {
        "id": "V19PNyQEOUY_"
      },
      "source": [
        "# Separating X and Y"
      ]
    },
    {
      "cell_type": "code",
      "metadata": {
        "id": "Wp_v1RPjEXuT"
      },
      "source": [
        "y= DF['Close']\n",
        "\n",
        "x= DF.drop(columns= ['Close'])"
      ],
      "execution_count": 93,
      "outputs": []
    },
    {
      "cell_type": "code",
      "metadata": {
        "colab": {
          "base_uri": "https://localhost:8080/",
          "height": 228
        },
        "id": "DcLXSvBpEam1",
        "outputId": "6f947b08-55fc-4c11-df5e-11eb7481c6c3"
      },
      "source": [
        "x.head()"
      ],
      "execution_count": 94,
      "outputs": [
        {
          "output_type": "execute_result",
          "data": {
            "text/html": [
              "<div>\n",
              "<style scoped>\n",
              "    .dataframe tbody tr th:only-of-type {\n",
              "        vertical-align: middle;\n",
              "    }\n",
              "\n",
              "    .dataframe tbody tr th {\n",
              "        vertical-align: top;\n",
              "    }\n",
              "\n",
              "    .dataframe thead th {\n",
              "        text-align: right;\n",
              "    }\n",
              "</style>\n",
              "<table border=\"1\" class=\"dataframe\">\n",
              "  <thead>\n",
              "    <tr style=\"text-align: right;\">\n",
              "      <th></th>\n",
              "      <th>Polarity</th>\n",
              "      <th>Negative</th>\n",
              "      <th>Neutral</th>\n",
              "      <th>Positive</th>\n",
              "      <th>Compound</th>\n",
              "      <th>Subjectivity</th>\n",
              "    </tr>\n",
              "  </thead>\n",
              "  <tbody>\n",
              "    <tr>\n",
              "      <th>0</th>\n",
              "      <td>8.086045</td>\n",
              "      <td>2.723366</td>\n",
              "      <td>-7.247261</td>\n",
              "      <td>8.157552</td>\n",
              "      <td>2.014810</td>\n",
              "      <td>5.133686</td>\n",
              "    </tr>\n",
              "    <tr>\n",
              "      <th>1</th>\n",
              "      <td>1.832317</td>\n",
              "      <td>-0.924366</td>\n",
              "      <td>1.458278</td>\n",
              "      <td>-1.180896</td>\n",
              "      <td>-0.232702</td>\n",
              "      <td>-2.748011</td>\n",
              "    </tr>\n",
              "    <tr>\n",
              "      <th>2</th>\n",
              "      <td>0.438050</td>\n",
              "      <td>-0.924366</td>\n",
              "      <td>0.389634</td>\n",
              "      <td>0.471927</td>\n",
              "      <td>1.410037</td>\n",
              "      <td>0.066922</td>\n",
              "    </tr>\n",
              "    <tr>\n",
              "      <th>3</th>\n",
              "      <td>0.426957</td>\n",
              "      <td>-1.667423</td>\n",
              "      <td>1.197633</td>\n",
              "      <td>0.141363</td>\n",
              "      <td>4.016519</td>\n",
              "      <td>0.946146</td>\n",
              "    </tr>\n",
              "    <tr>\n",
              "      <th>4</th>\n",
              "      <td>4.287038</td>\n",
              "      <td>-0.856816</td>\n",
              "      <td>-0.757203</td>\n",
              "      <td>2.248711</td>\n",
              "      <td>4.221547</td>\n",
              "      <td>1.614513</td>\n",
              "    </tr>\n",
              "  </tbody>\n",
              "</table>\n",
              "</div>"
            ],
            "text/plain": [
              "   Polarity  Negative   Neutral  Positive  Compound  Subjectivity\n",
              "0  8.086045  2.723366 -7.247261  8.157552  2.014810      5.133686\n",
              "1  1.832317 -0.924366  1.458278 -1.180896 -0.232702     -2.748011\n",
              "2  0.438050 -0.924366  0.389634  0.471927  1.410037      0.066922\n",
              "3  0.426957 -1.667423  1.197633  0.141363  4.016519      0.946146\n",
              "4  4.287038 -0.856816 -0.757203  2.248711  4.221547      1.614513"
            ]
          },
          "metadata": {
            "tags": []
          },
          "execution_count": 94
        }
      ]
    },
    {
      "cell_type": "code",
      "metadata": {
        "colab": {
          "base_uri": "https://localhost:8080/"
        },
        "id": "pGctcIhTE4tb",
        "outputId": "f608498b-bc71-4804-aa9c-c5c7bcd26fac"
      },
      "source": [
        "y.head()"
      ],
      "execution_count": 95,
      "outputs": [
        {
          "output_type": "execute_result",
          "data": {
            "text/plain": [
              "0   -1.295200\n",
              "1   -1.291392\n",
              "2   -1.286268\n",
              "3   -1.279940\n",
              "4   -1.285800\n",
              "Name: Close, dtype: float64"
            ]
          },
          "metadata": {
            "tags": []
          },
          "execution_count": 95
        }
      ]
    },
    {
      "cell_type": "markdown",
      "metadata": {
        "id": "rfxWZuQuIaQe"
      },
      "source": [
        "# Random Forest Regressor"
      ]
    },
    {
      "cell_type": "code",
      "metadata": {
        "id": "2T_LFJqdFOKw"
      },
      "source": [
        "from sklearn.ensemble import RandomForestRegressor\n",
        "\n",
        "rf = RandomForestRegressor()\n",
        "\n",
        "rf.fit(x, y)\n",
        "\n",
        "y_rf = rf.predict(x)"
      ],
      "execution_count": 109,
      "outputs": []
    },
    {
      "cell_type": "code",
      "metadata": {
        "colab": {
          "base_uri": "https://localhost:8080/"
        },
        "id": "maEc16ebGYLq",
        "outputId": "1b4ad0b6-7875-45eb-dfa0-f5d6d8230ccf"
      },
      "source": [
        "print('Mean Squared error: ',mean_squared_error(y_rf, y))"
      ],
      "execution_count": 110,
      "outputs": [
        {
          "output_type": "stream",
          "text": [
            "Mean Squared error:  0.05124127652856518\n"
          ],
          "name": "stdout"
        }
      ]
    },
    {
      "cell_type": "markdown",
      "metadata": {
        "id": "A0sjMnEaIYAV"
      },
      "source": [
        "# Decision Tree Regressor"
      ]
    },
    {
      "cell_type": "code",
      "metadata": {
        "colab": {
          "base_uri": "https://localhost:8080/"
        },
        "id": "C2_3HhOyGirZ",
        "outputId": "af853b65-b074-4a9e-a884-b783472ad1bb"
      },
      "source": [
        "from sklearn.tree import DecisionTreeRegressor\n",
        "\n",
        "dtr = DecisionTreeRegressor()\n",
        "\n",
        "dtr.fit(x, y)\n",
        "\n",
        "y_dtr = dtr.predict(x)\n",
        "\n",
        "print('Mean Squared error: ',mean_squared_error(y_dtr, y))"
      ],
      "execution_count": 111,
      "outputs": [
        {
          "output_type": "stream",
          "text": [
            "Mean Squared error:  1.0473718569297263e-07\n"
          ],
          "name": "stdout"
        }
      ]
    },
    {
      "cell_type": "markdown",
      "metadata": {
        "id": "TsAb0_UTIf8k"
      },
      "source": [
        "# XGBoost Regressor"
      ]
    },
    {
      "cell_type": "code",
      "metadata": {
        "colab": {
          "base_uri": "https://localhost:8080/"
        },
        "id": "viUw04xpHU21",
        "outputId": "333d2557-fdd3-472d-d6bf-3072127854f6"
      },
      "source": [
        "import xgboost\n",
        "\n",
        "xgb = xgboost.XGBRegressor()\n",
        "\n",
        "xgb.fit(x, y)\n",
        "\n",
        "y_xgb = xgb.predict(x)\n",
        "\n",
        "print('Mean Squared error: ',mean_squared_error(y_xgb, y))"
      ],
      "execution_count": 112,
      "outputs": [
        {
          "output_type": "stream",
          "text": [
            "[13:08:02] WARNING: /workspace/src/objective/regression_obj.cu:152: reg:linear is now deprecated in favor of reg:squarederror.\n",
            "Mean Squared error:  0.3352359182729861\n"
          ],
          "name": "stdout"
        }
      ]
    },
    {
      "cell_type": "markdown",
      "metadata": {
        "id": "MajGAaL5Irhm"
      },
      "source": [
        "# Conclusion\n",
        "\n",
        "# Random Forest Regressor gave a mse = 0.0512\n",
        "\n",
        "# XGBoost Regressor gave a mse = 0.3352\n",
        "\n",
        "# Decision Tree Regressor gave a mse = 1.07e-7\n",
        "\n",
        "# This means Random Forest Regressor is the best model for regression analysis on this hybrid modle for BSE SENSEX points prediction as Decision Tree Regressor is highly overfitting and XGBoost is not providing an acceptable accuracy. "
      ]
    }
  ]
}